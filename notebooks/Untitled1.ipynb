{
 "metadata": {
  "name": ""
 },
 "nbformat": 3,
 "nbformat_minor": 0,
 "worksheets": [
  {
   "cells": [
    {
     "cell_type": "code",
     "collapsed": false,
     "input": [
      "%pylab"
     ],
     "language": "python",
     "metadata": {},
     "outputs": [
      {
       "output_type": "stream",
       "stream": "stdout",
       "text": [
        "Using matplotlib backend: MacOSX\n",
        "Populating the interactive namespace from numpy and matplotlib\n"
       ]
      },
      {
       "output_type": "stream",
       "stream": "stderr",
       "text": [
        "WARNING: pylab import has clobbered these variables: ['norm', 'cond', 'power']\n",
        "`%pylab --no-import-all` prevents importing * from pylab and numpy\n"
       ]
      }
     ],
     "prompt_number": 13
    },
    {
     "cell_type": "code",
     "collapsed": false,
     "input": [
      "cd /Users/miguel_daal/Documents/Projects/Python_Res_Fit/KAM"
     ],
     "language": "python",
     "metadata": {},
     "outputs": [
      {
       "output_type": "stream",
       "stream": "stdout",
       "text": [
        "/Users/miguel_daal/Documents/Projects/Python_Res_Fit/KAM\n"
       ]
      }
     ],
     "prompt_number": 14
    },
    {
     "cell_type": "code",
     "collapsed": false,
     "input": [
      "import KAM"
     ],
     "language": "python",
     "metadata": {},
     "outputs": [],
     "prompt_number": 15
    },
    {
     "cell_type": "code",
     "collapsed": false,
     "input": [
      "reload(KAM)"
     ],
     "language": "python",
     "metadata": {},
     "outputs": [
      {
       "metadata": {},
       "output_type": "pyout",
       "prompt_number": 16,
       "text": [
        "<module 'KAM' from 'KAM.pyc'>"
       ]
      }
     ],
     "prompt_number": 16
    },
    {
     "cell_type": "code",
     "collapsed": false,
     "input": [
      "run -i Load_Datasets.py"
     ],
     "language": "python",
     "metadata": {},
     "outputs": [],
     "prompt_number": 17
    },
    {
     "cell_type": "code",
     "collapsed": false,
     "input": [
      "#data extraction conditions for  power sweeps\n",
      "#condition = ['Q>0','Q>0','Pr<-64','Q>0', 'Pr<-68','Q>0','Q<200000', 'Q>50000', 'Pr<-60','Q>0','Q>0']\n",
      "condition = ['Q>0','Q>0','Pr<-65','Q>0', 'Pr<-68','Q>0','Q<210000', 'Pr<-45', 'Pr<-60','Q>0','Q>0']\n",
      "for sweep in xrange(len(Power_Sweeps)):\n",
      "    Power_Sweeps[sweep].metadata.condition = condition[sweep]"
     ],
     "language": "python",
     "metadata": {},
     "outputs": [],
     "prompt_number": 18
    },
    {
     "cell_type": "code",
     "collapsed": false,
     "input": [
      "Power_Sweeps.sort(key = lambda w: w.metadata.width) #sort power sweep list so that narrowest resonator is first and widest is last"
     ],
     "language": "python",
     "metadata": {},
     "outputs": [],
     "prompt_number": 19
    },
    {
     "cell_type": "code",
     "collapsed": false,
     "input": [
      "fig = plt.figure( figsize=(5.5, 4.5), dpi=100)\n",
      "ax = fig.add_subplot(111)\n",
      "sweep = Run45aP\n",
      "index = 0; line1 = ax.plot(sweep.Sweep_Array['Frequencies'][index]/1e6,20*np.log10(np.abs(sweep.Sweep_Array['S21'][index])), label = '-100 dBm Probe Power', linewidth=3,linestyle= '-')\n",
      "index = 8; line2 = ax.plot(sweep.Sweep_Array['Frequencies'][index]/1e6,20*np.log10(np.abs(sweep.Sweep_Array['S21'][index])), label = '-72 dBm Probe Power', linewidth=3,linestyle= '-')\n",
      "index = 11; line3 = ax.plot(sweep.Sweep_Array['Frequencies'][index]/1e6,20*np.log10(np.abs(sweep.Sweep_Array['S21'][index])), label = '-66 dBm Probe Power', linewidth=3,linestyle= '-')\n",
      "#index = 18; line4 = ax.plot(sweep.Sweep_Array['Frequencies'][index]/1e6,20*np.log10(np.abs(sweep.Sweep_Array['S21'][index])), label = '-52 dBm Probe Power', linewidth=3,linestyle= '-')\n",
      "ax.set_xlabel('Frequency [MHz]',color = 'k')\n",
      "#ax.xaxis.get_major_formatter().set_powerlimits((0, 1))\n",
      "ax.ticklabel_format(axis='x', style='plain', scilimits=(0,0),useOffset=False)\n",
      "ax.xaxis.set_major_locator(plt.LinearLocator(5))\n",
      "ax.set_ylabel('$|S_{21}|$ [dB]', color='k')\n",
      "ax.set_title('Trsansmission Around Resonance at Different Powers: \\n\\n 64 $\\mu m$ wide Al microstrip on Nb ground plane', fontsize=9)\n",
      "ax.legend(loc = 'best', fontsize=9)\n",
      "ax.grid()\n",
      "plt.subplots_adjust(left=.15, bottom=.15, right=None, top=.85)\n",
      "\n",
      "plt.show()\n",
      "#fig.savefig('Transmission_at_Different_Powers', dpi = 300, transparency  = True)"
     ],
     "language": "python",
     "metadata": {},
     "outputs": [],
     "prompt_number": 20
    },
    {
     "cell_type": "code",
     "collapsed": false,
     "input": [
      "fig = plt.figure( figsize=(5, 5), dpi=100)\n",
      "ax = fig.add_subplot(111)\n",
      "norm = mpl.colors.Normalize(vmin=0, vmax=len(Power_Sweeps))\n",
      "scalarMap = cm.ScalarMappable(norm=norm, cmap='jet')\n",
      "\n",
      "\n",
      "\n",
      "\n",
      "\n",
      "for sweep in xrange(len(Power_Sweeps)):\n",
      "    Pr = Power_Sweeps[sweep].Sweep_Array['Preadout_dB'] \n",
      "    Qc = Power_Sweeps[sweep].Sweep_Array['Qc']\n",
      "    Q =  Power_Sweeps[sweep].Sweep_Array['Q']\n",
      "    Fr =  Power_Sweeps[sweep].Sweep_Array['Fr']\n",
      "    Qi = 1.0/((1.0/Q)-(1.0/Qc))\n",
      "    R = Q/Qc\n",
      "    E = np.power(10,(Pr-10)/20)*Qc/(2*np.pi*Fr)\n",
      "    F = Qc/(2*np.pi*Fr)\n",
      "    #condition = [Pr<-64,Q>0, Pr<-68,Q>0,Q<200000, Q>50000, Pr<-60,Q>0,Q>0]\n",
      "    \n",
      "    #condition = ['Pr<-64','Q>0', 'Pr<-68','Q>0','Q<200000', 'Q>50000', 'Pr<-60','Q>0','Q>0']\n",
      "    #line = ax.plot(np.extract(condition[sweep],Pr),np.extract(condition[sweep],Qi), color = scalarMap.to_rgba(sweep), label = str(Power_Sweeps[sweep].metadata.width)+ '$\\mu m$ width', linewidth=3,linestyle= '-', marker = 'x' )\n",
      "    cond = eval(Power_Sweeps[sweep].metadata.condition)\n",
      "    xdict = dict(zip(Pr,arange(Pr.size)))\n",
      "    #xdict = dict(zip(E,arange(E.size)))\n",
      "    x = np.extract(cond,Pr)\n",
      "    y = np.extract(cond,F)\n",
      "    line = ax.plot(x,y, color = scalarMap.to_rgba(sweep), label = str(Power_Sweeps[sweep].metadata.width)+ '$\\mu m$; Run '+ Power_Sweeps[sweep].metadata.Run, linewidth=3,linestyle= '-', marker = '.', markerfacecolor = 'k' )\n",
      "    for i,j in zip(x,y):\n",
      "        if mod(xdict[i],4) == 0:\n",
      "            ax.annotate(str(xdict[i]),xy=(i,j), size = 5, rotation = 90,xytext=(i,j))\n",
      "    \n",
      "ax.legend(loc = 'best', fontsize=8,scatterpoints =1, numpoints = 1, labelspacing = .1)\n",
      "#ax.set_ylim((-50000.0, 400000.0))\n",
      "#ax.set_ylim((0.0, 600000.0)) #for Qc\n",
      "ax.set_xlim((-118.0, -20.0))\n",
      "ax.ticklabel_format(axis='y', style='sci',useOffset=False)\n",
      "ax.set_ylabel('Internal Quality Factor, $Q_i$', color='k')\n",
      "ax.set_xlabel('Probe Power [dBm]', color='k')\n",
      "ax.set_title('Effect of Probe Power on\\nInternal Quality Factor')\n",
      "plt.subplots_adjust(left=.2, bottom=None, right=None, top=None)\n",
      "ax.tick_params(axis='y', labelsize=9)\n",
      "ax.tick_params(axis='x', labelsize=9)\n",
      "ax.grid()\n",
      "plt.show()\n",
      "#fig.savefig('Probe_Power_Versus_Qi_Dec9',dpi=300, transparency  = True)"
     ],
     "language": "python",
     "metadata": {},
     "outputs": [],
     "prompt_number": 91
    },
    {
     "cell_type": "code",
     "collapsed": false,
     "input": [
      "fig = plt.figure( figsize=(5, 5), dpi=100)\n",
      "ax = fig.add_subplot(111)\n",
      "norm = mpl.colors.Normalize(vmin=0, vmax=len(Power_Sweeps))\n",
      "scalarMap = cm.ScalarMappable(norm=norm, cmap='jet')\n",
      "\n",
      "widths = np.array([2,4,8,16,32,64,128,256])\n",
      "Z3 = np.array([85.77,67.82,50.176,33.82,21.24,12.72,7.18,3.58])\n",
      "Z3_dict = dict(zip(widths,Z3))\n",
      "Z1 = np.array([52.10,52.10,52.10,52.10,52.10,52.10,52.10,52.10])\n",
      "Z1_dict = dict(zip(widths,Z1))\n",
      "Eeff = np.array([4.196,3.8148,3.2517,2.6174,2.09048,1.7018,1.4482,1.2773])\n",
      "Eeff_dict = dict(zip(widths,Eeff))\n",
      "del(Z3,Z1,Eeff)\n",
      "\n",
      "for sweep in xrange(len(Power_Sweeps)):#[Power_Sweeps[5],Power_Sweeps[8],Power_Sweeps[1], Power_Sweeps[7]]:#Power_Sweeps:\n",
      "    Pr = Power_Sweeps[sweep].Sweep_Array['Preadout_dB'] \n",
      "    Qc = Power_Sweeps[sweep].Sweep_Array['Qc']\n",
      "    Q =  Power_Sweeps[sweep].Sweep_Array['Q']\n",
      "    Fr =  Power_Sweeps[sweep].Sweep_Array['Fr']\n",
      "    Z3 = Z3_dict[Power_Sweeps[sweep].metadata.width]\n",
      "    Z1 = Z1_dict[Power_Sweeps[sweep].metadata.width]\n",
      "    Qi = 1.0/((1.0/Q)-(1.0/Qc[0]))\n",
      "    \n",
      "    #condition = [Pr<-64,Q>0, Pr<-68,Q>0,Q<200000, Q>50000, Pr<-60,Q>0,Q>0]\n",
      "    \n",
      "\n",
      "    I_middle = (1/np.pi)*np.power(10,(Pr-10)/20)*Qi*Qc[0]/((Qi-Qc[0])*np.sqrt(Z3*Z1))\n",
      "    cond = eval(Power_Sweeps[sweep].metadata.condition)\n",
      "    #line = ax.plot(np.extract(condition[sweep],Pr),np.extract(condition[sweep],Qi), label = Power_Sweeps[sweep].metadata.Run + ' '+Power_Sweeps[sweep].metadata.Sensor +' ' +Power_Sweeps[sweep].metadata.Ground_Plane, linewidth=3,linestyle= '-', marker = 'x' )\n",
      "    line = ax.plot(np.extract(cond,Pr),np.extract(cond,I_middle), color = scalarMap.to_rgba(sweep), label = str(Power_Sweeps[sweep].metadata.width)+ '$\\mu m$ width', linewidth=3,linestyle= '-', marker = 'x' )\n",
      "ax.legend(loc = 'best', fontsize=9,scatterpoints =1, numpoints = 1, labelspacing = .1)\n",
      "\n",
      "#ax.set_ylim((0.0, 600000.0)) #for Qc\n",
      "ax.set_xlim((-118.0, -20.0))\n",
      "ax.ticklabel_format(axis='y', style='sci')\n",
      "ax.set_ylabel('Current', color='k')\n",
      "ax.set_xlabel('Probe Power [dBm]', color='k')\n",
      "ax.set_title('Effect of Probe Power on\\n Internal Max Resonator Current')\n",
      "plt.subplots_adjust(left=.2, bottom=None, right=None, top=None)\n",
      "ax.tick_params(axis='y', labelsize=9)\n",
      "ax.tick_params(axis='x', labelsize=9)\n",
      "ax.grid()\n",
      "plt.show()\n",
      "#fig.savefig('Probe_Power_Versus_Qi',dpi = 300 ,transparency  = True)"
     ],
     "language": "python",
     "metadata": {},
     "outputs": [],
     "prompt_number": 22
    },
    {
     "cell_type": "code",
     "collapsed": false,
     "input": [
      "#plot fractional freq shift for runs 51a and 48b, 32um resonators\n",
      "\n",
      "fig = plt.figure( figsize=(5, 5), dpi=100)\n",
      "ax = fig.add_subplot(111)\n",
      "norm = mpl.colors.Normalize(vmin=0, vmax=len(Power_Sweeps))\n",
      "scalarMap = cm.ScalarMappable(norm=norm, cmap='jet')\n",
      "power = -55.\n",
      "swp = Run51aTP; line = ax.plot( np.extract(swp.Sweep_Array['Pinput_dB'] == power,swp.Sweep_Array['Temperature']), np.extract(swp.Sweep_Array['Pinput_dB'] == power,(swp.Sweep_Array['Fr']-swp.Sweep_Array['Fr'][0])/swp.Sweep_Array['Fr'][0]) , color = 'r', label = swp.metadata.Run + ': '+str(swp.metadata.width)+ '$\\mu m$ width', linewidth=3,linestyle= '-', marker = 'x' )\n",
      "swp = Run48bTP; line = ax.plot( np.extract(swp.Sweep_Array['Pinput_dB'] == power,swp.Sweep_Array['Temperature']), np.extract(swp.Sweep_Array['Pinput_dB'] == power,(swp.Sweep_Array['Fr']-swp.Sweep_Array['Fr'][0])/swp.Sweep_Array['Fr'][0]) , color = 'r', label = swp.metadata.Run + ':'+str(swp.metadata.width)+ '$\\mu m$ width', linewidth=3,linestyle= '--', marker = 'x' )\n",
      "power = -59.\n",
      "#swp = Run44bTP; line = ax.plot( np.extract(swp.Sweep_Array['Pinput_dB'] == power,swp.Sweep_Array['Temperature']), np.extract(swp.Sweep_Array['Pinput_dB'] == power,(swp.Sweep_Array['Fr']-swp.Sweep_Array['Fr'][0])/swp.Sweep_Array['Fr'][0]) , color = 'g', label = swp.metadata.Run + ': '+str(swp.metadata.width)+ '$\\mu m$ width', linewidth=3,linestyle= ':', marker = 'x' )\n",
      "\n",
      "ax.legend(loc = 'best', fontsize=9,scatterpoints =1, numpoints = 1, labelspacing = .1)\n",
      "\n",
      "ax.ticklabel_format(axis='y', style='sci')\n",
      "ax.set_ylabel('$\\delta F_r / F_r$', color='k')\n",
      "ax.set_xlabel('Temperature [K]', color='k')\n",
      "ax.set_title('Fractional Frequency Shift with Temperature')\n",
      "plt.subplots_adjust(left=.2, bottom=None, right=None, top=None)\n",
      "ax.tick_params(axis='y', labelsize=9)\n",
      "ax.tick_params(axis='x', labelsize=9)\n",
      "ax.grid()\n",
      "plt.show()\n",
      "#fig.savefig('Fractional_Freq_Shift_Temp_Reading_Improvement', dpi = 300,transparency  = True)"
     ],
     "language": "python",
     "metadata": {},
     "outputs": [],
     "prompt_number": 23
    },
    {
     "cell_type": "code",
     "collapsed": false,
     "input": [
      "power = -55.\n",
      "Temp = np.extract(swp.Sweep_Array['Pinput_dB'] == power,swp.Sweep_Array['Temperature'])\n",
      "dF = np.extract(swp.Sweep_Array['Pinput_dB'] == power,(swp.Sweep_Array['Fr']-swp.Sweep_Array['Fr'][0])/swp.Sweep_Array['Fr'][0])\n",
      "\n"
     ],
     "language": "python",
     "metadata": {},
     "outputs": [],
     "prompt_number": 24
    },
    {
     "cell_type": "code",
     "collapsed": false,
     "input": [
      "ax.plot?"
     ],
     "language": "python",
     "metadata": {},
     "outputs": [],
     "prompt_number": 86
    },
    {
     "cell_type": "code",
     "collapsed": false,
     "input": [
      "fig = plt.figure( figsize=(5, 5), dpi=100)\n",
      "ax = fig.add_subplot(111)\n",
      "\n",
      "Z0 = 52.1\n",
      "Zc = np.complex(0,6000)\n",
      "\n",
      "Qc_func = lambda Zr: np.pi*np.square(np.abs((0.5*Z0+Zc+Zr)/np.sqrt(1.0*Z0*Zr)))\n",
      "#Qc_func = lambda Zr: np.pi*np.square(np.abs((Zr)/np.sqrt(1.0*Z0*Zr)))\n",
      "z = np.linspace(0,1000000,num = 100000)\n",
      "line = ax.semilogx(z,Qc_func(3.58-np.complex(0,1)*z))\n",
      "line = ax.semilogx(z,Qc_func(3.58+z))\n",
      "ax.grid()\n",
      "plt.show()"
     ],
     "language": "python",
     "metadata": {},
     "outputs": [],
     "prompt_number": 89
    },
    {
     "cell_type": "code",
     "collapsed": false,
     "input": [
      "Qc_func(3.58)"
     ],
     "language": "python",
     "metadata": {},
     "outputs": [
      {
       "metadata": {},
       "output_type": "pyout",
       "prompt_number": 77,
       "text": [
        "606376.2942415633"
       ]
      }
     ],
     "prompt_number": 77
    },
    {
     "cell_type": "code",
     "collapsed": false,
     "input": [],
     "language": "python",
     "metadata": {},
     "outputs": []
    }
   ],
   "metadata": {}
  }
 ]
}