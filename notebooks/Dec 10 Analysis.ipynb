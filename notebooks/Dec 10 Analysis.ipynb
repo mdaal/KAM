{
 "metadata": {
  "name": "",
  "signature": "sha256:4068d1d24b89967081fe46b3c1c4eeccc63df6f1d41f19318a0b3448f2306758"
 },
 "nbformat": 3,
 "nbformat_minor": 0,
 "worksheets": [
  {
   "cells": [
    {
     "cell_type": "markdown",
     "metadata": {},
     "source": [
      "##Set Up Workspace\n"
     ]
    },
    {
     "cell_type": "code",
     "collapsed": false,
     "input": [
      "#%pylab inline\n",
      "%pylab\n",
      "import os\n",
      "os.chdir('/Users/miguel_daal/Documents/Projects/Python_Res_Fit/KAM')\n",
      "import KAM\n",
      "reload(KAM)\n",
      "from  datetime import date\n",
      "import collections\n"
     ],
     "language": "python",
     "metadata": {},
     "outputs": [
      {
       "output_type": "stream",
       "stream": "stdout",
       "text": [
        "Using matplotlib backend: MacOSX\n",
        "Populating the interactive namespace from numpy and matplotlib\n"
       ]
      }
     ],
     "prompt_number": 15
    },
    {
     "cell_type": "code",
     "collapsed": false,
     "input": [
      "#cd /Users/miguel_daal/Documents/Projects/Python_Res_Fit/KAM\n",
      "os.chdir('/Users/miguel_daal/Documents/Projects/Python_Res_Fit/KAM')"
     ],
     "language": "python",
     "metadata": {},
     "outputs": [],
     "prompt_number": 16
    },
    {
     "cell_type": "code",
     "collapsed": false,
     "input": [
      "# import KAM\n",
      "# reload(KAM)\n",
      "# from  datetime import date\n",
      "# import os"
     ],
     "language": "python",
     "metadata": {},
     "outputs": [],
     "prompt_number": 17
    },
    {
     "cell_type": "code",
     "collapsed": false,
     "input": [
      "widths = np.array([2,4,8,16,32,64,128,256])\n",
      "Z3 = np.array([85.77,67.82,50.176,33.82,21.24,12.72,7.18,3.58])\n",
      "Z3_dict = dict(zip(widths,Z3))\n",
      "Z1 = np.array([52.10,52.10,52.10,52.10,52.10,52.10,52.10,52.10])\n",
      "Z1_dict = dict(zip(widths,Z1))\n",
      "Eeff = np.array([4.196,3.8148,3.2517,2.6174,2.09048,1.7018,1.4482,1.2773])\n",
      "Eeff_dict = dict(zip(widths,Eeff))"
     ],
     "language": "python",
     "metadata": {},
     "outputs": [],
     "prompt_number": 18
    },
    {
     "cell_type": "code",
     "collapsed": false,
     "input": [
      "run -i Load_Datasets.py"
     ],
     "language": "python",
     "metadata": {},
     "outputs": [
      {
       "output_type": "stream",
       "stream": "stdout",
       "text": [
        "Table metadata is missing Resonator_Eeff. Setting to None\n",
        "Table metadata is missing Resonator_Impedance. Setting to None\n",
        "Table metadata is missing Ground_Plane_Thickness. Setting to None\n",
        "Table metadata is missing Feedline_Impedance. Setting to None\n",
        "Table metadata is missing Electrical_Delay. Setting to None\n",
        "Table metadata is missing Resonator_Thickness. Setting to None\n",
        "Table metadata is missing Resonator_Width. Setting to None\n"
       ]
      }
     ],
     "prompt_number": 19
    },
    {
     "cell_type": "code",
     "collapsed": false,
     "input": [
      "#data extraction conditions for  power sweeps\n",
      "condition = ['Q>0','Q>0','Pr<-65','Q>0', 'Pr<-68','Q>0','Q<210000', 'Pr<-45', 'Pr<-60','Q>0','Q>0','Q>0','Q>0']\n",
      "for sweep in xrange(len(Power_Sweeps)):\n",
      "    Power_Sweeps[sweep].metadata.condition = condition[sweep]"
     ],
     "language": "python",
     "metadata": {},
     "outputs": [],
     "prompt_number": 20
    },
    {
     "cell_type": "code",
     "collapsed": false,
     "input": [
      "#sort power sweep list so that narrowest resonator is first and widest is last\n",
      "Power_Sweeps.sort(key = lambda w: w.metadata.width) "
     ],
     "language": "python",
     "metadata": {},
     "outputs": [],
     "prompt_number": 21
    },
    {
     "cell_type": "code",
     "collapsed": false,
     "input": [
      "def Plot_Data_Sets(X_expression, Y_expression, Xlabel = None, Ylabel = None, Title = None, Save = False,Point_Label = True,Marker_Map = True,Yscale = 'linear', Xscale = 'linear' ):\n",
      "    fig = plt.figure( figsize=(5, 5), dpi=150)\n",
      "    ax = fig.add_subplot(111)\n",
      "    #norm = mpl.colors.Normalize(vmin=0, vmax=len(Power_Sweeps))\n",
      "    norm = mpl.colors.Normalize(vmin=2, vmax=8)\n",
      "    scalarMap = cm.ScalarMappable(norm=norm, cmap='gist_rainbow')\n",
      "    count = collections.Counter()\n",
      "    #markers = {1:',', 2:'x', 3:'+', 4:'1'}\n",
      "    markers = {1:'1', 2:'2', 3:'3', 4:'4'}\n",
      "    for sweep in xrange(len(Power_Sweeps)):\n",
      "        if Power_Sweeps[sweep].metadata.custom[0] == True: #the show flag\n",
      "            # If Power_Sweeps[sweep].metadata.condition references Pr, Q etc we will need to have these defined...\n",
      "            width = Power_Sweeps[sweep].metadata.width\n",
      "            Pr = Power_Sweeps[sweep].Sweep_Array['Preadout_dB'] \n",
      "            Qc = Power_Sweeps[sweep].Sweep_Array['Qc']\n",
      "            Q =  Power_Sweeps[sweep].Sweep_Array['Q']\n",
      "            Fr =  Power_Sweeps[sweep].Sweep_Array['Fr']\n",
      "            Temp = Power_Sweeps[sweep].Sweep_Array['Temperature']\n",
      "            Qi = 1.0/((1.0/Q)-(1.0/Qc))\n",
      "\n",
      "            Pr_Volts_Peak = np.power(10,(Pr-10)/20) #Volts Peak\n",
      "            Pr_Watts =  np.square(Pr_Volts_Peak)/(2*50)#watts\n",
      "            Pint = 10*np.log10(Pr_Watts*Q*Q/(np.pi*Qc)) #dBm\n",
      "            Imax = 2*Pr_Volts_Peak*Q/np.sqrt(np.pi*Z1_dict[width]*Z3_dict[width]*Qc) #Amps\n",
      "            Jmax = Imax/(width*1e-6*200e-9)\n",
      "\n",
      "            cond = eval(Power_Sweeps[sweep].metadata.condition)\n",
      "            X_array = eval(X_expression)\n",
      "            Y_array = eval(Y_expression)\n",
      "            xdict = dict(zip(X_array,arange(X_array.size)))\n",
      "            x = np.extract(cond,X_array)\n",
      "            y = np.extract(cond,Y_array)\n",
      "            if Marker_Map == True:\n",
      "                count[str(Power_Sweeps[sweep].metadata.width)] +=1\n",
      "                mark = markers[count[str(Power_Sweeps[sweep].metadata.width)]]\n",
      "            else:\n",
      "                mark ='.'\n",
      "            line = ax.plot(x,y, color = scalarMap.to_rgba(np.log2(Power_Sweeps[sweep].metadata.width)), label = str(Power_Sweeps[sweep].metadata.width)+ '$\\mu m$; Run '+ Power_Sweeps[sweep].metadata.Run + Power_Sweeps[sweep].metadata.custom[1], linewidth=3,linestyle= Power_Sweeps[sweep].metadata.custom[2], marker = mark,markeredgecolor = 'k',  markerfacecolor = 'k',markersize = 3 )        \n",
      "            #line = ax.plot(x,y, color = scalarMap.to_rgba(sweep), label = str(Power_Sweeps[sweep].metadata.width)+ '$\\mu m$; Run '+ Power_Sweeps[sweep].metadata.Run, linewidth=3,linestyle= '-', marker = '.', markerfacecolor = 'k' )\n",
      "            if Point_Label == True:\n",
      "                for i,j in zip(x,y):\n",
      "                    if mod(xdict[i],5) == 0:\n",
      "                        ax.annotate(str(xdict[i]),xy=(i,j), size = 4, rotation = 90,xytext=(i,j))\n",
      "        \n",
      "    ax.legend(loc = 'best', fontsize=5,scatterpoints =1, numpoints = 1, labelspacing = .02)\n",
      "    #ax.set_ylim((-50000.0, 400000.0))\n",
      "    #ax.set_ylim((0.0, 600000.0)) #for Qc\n",
      "    #ax.set_xlim((-118.0, -20.0))\n",
      "    ax.ticklabel_format(axis='y', style='sci',useOffset=False)\n",
      "    ax.set_ylabel(Ylabel, color='k')\n",
      "    ax.set_xlabel(Xlabel, color='k')\n",
      "    ax.xaxis.labelpad = 10 #move the xlabel down a bit, also possible with ax.xaxis.set_label_coords(0.5, -0.1)\n",
      "    ax.set_xscale(Xscale)\n",
      "    ax.set_yscale(Yscale)\n",
      "    ax.set_title(Title)\n",
      "    plt.subplots_adjust(left=.2, bottom=0.13, right=None, top=None)\n",
      "    ax.tick_params(axis='y', labelsize=9)\n",
      "    ax.tick_params(axis='x', labelsize=9)\n",
      "    ax.grid()\n",
      "    plt.show()\n",
      "    if Save == True:\n",
      "        #loc = os.getcwd()\n",
      "        #os.chdir(loc+os.sep+'Plots')\n",
      "        loc = '/Users/miguel_daal/Documents/Projects/Python_Res_Fit/KAM'\n",
      "        os.chdir('/Users/miguel_daal/Documents/Projects/Python_Res_Fit/KAM/Plots/')\n",
      "        fig.savefig(Title.replace('\\n','_').replace(' ','_')+'_'+date.today().strftime(\"%Y%m%d\"),dpi=300, transparency  = True)\n",
      "        os.chdir(loc)\n"
     ],
     "language": "python",
     "metadata": {},
     "outputs": [],
     "prompt_number": 22
    },
    {
     "cell_type": "markdown",
     "metadata": {},
     "source": [
      "### Probe Power Plots"
     ]
    },
    {
     "cell_type": "code",
     "collapsed": false,
     "input": [
      "if 1: \n",
      "    Save = False\n",
      "    Xlabel = 'Probe Power [dBm]'\n",
      "    Ylabel = 'Internal Quality Factor, $Q_i$'\n",
      "    Title = 'Effect of Probe Power on\\nInternal Quality Factor'\n",
      "    Plot_Data_Sets(\"Pr\", \"Qi\", Xlabel = Xlabel, Ylabel = Ylabel, Title = Title, Save = Save, Point_Label = False)\n",
      "\n",
      "if 1:\n",
      "    Save = False\n",
      "    Xlabel = 'Probe Power [dBm]'\n",
      "    Ylabel = 'Coupling Quality Factor, $Q_c$'\n",
      "    Title = 'Effect of Probe Power on\\nCoupling Quality Factor'\n",
      "    Plot_Data_Sets(\"Pr\", \"Qc\", Xlabel = Xlabel, Ylabel = Ylabel, Title = Title, Save = Save, Point_Label = False)\n",
      "\n",
      "if 0:\n",
      "    Save = False\n",
      "    Xlabel = 'Probe Power [dBm]'\n",
      "    Ylabel = 'Loop Diameter, $Q/Q_c$'\n",
      "    Title = 'Effect of Probe Power on\\nLoop Diameter'\n",
      "    Plot_Data_Sets(\"Pr\", \"Q/Qc\", Xlabel = Xlabel, Ylabel = Ylabel, Title = Title, Save = Save, Point_Label = False)\n",
      "\n",
      "if 0:\n",
      "    Save = False\n",
      "    Xlabel = 'Probe Power [dBm]'\n",
      "    Ylabel = r'Fractional Resonant Frequency Shift, $\\delta f_r/f_r$'\n",
      "    Title = 'Effect of Probe Power on\\nResonance Frequency Shift'\n",
      "    Plot_Data_Sets(\"Pr\", \"(Fr-Fr[0])/Fr[0]\", Xlabel = Xlabel, Ylabel = Ylabel, Title = Title, Save = Save, Point_Label = False)\n",
      "       "
     ],
     "language": "python",
     "metadata": {},
     "outputs": [
      {
       "output_type": "stream",
       "stream": "stderr",
       "text": [
        "-c:23: RuntimeWarning: invalid value encountered in log10\n",
        "-c:24: RuntimeWarning: invalid value encountered in sqrt\n",
        "-c:23: RuntimeWarning: invalid value encountered in log10\n"
       ]
      },
      {
       "output_type": "stream",
       "stream": "stderr",
       "text": [
        "-c:24: RuntimeWarning: invalid value encountered in sqrt\n"
       ]
      }
     ],
     "prompt_number": 23
    },
    {
     "cell_type": "code",
     "collapsed": false,
     "input": [],
     "language": "python",
     "metadata": {},
     "outputs": [],
     "prompt_number": 23
    },
    {
     "cell_type": "code",
     "collapsed": false,
     "input": [],
     "language": "python",
     "metadata": {},
     "outputs": [],
     "prompt_number": 23
    },
    {
     "cell_type": "markdown",
     "metadata": {},
     "source": [
      "###Internal Power Plots"
     ]
    },
    {
     "cell_type": "code",
     "collapsed": false,
     "input": [
      "Save = False\n",
      "Xlabel = r'Resonator Internal Power,  $\\frac{Q^2\\cdot P_{probe}}{Q_c \\pi}$ [dBm]'\n",
      "Ylabel = r'Internal Quality Factor $Q_i$'\n",
      "Title = 'Internal Quality Factor versus\\nInternal Power'\n",
      "Plot_Data_Sets(\"Pint\", \"Qi\", Xlabel = Xlabel, Ylabel = Ylabel, Title = Title, Save = Save, Point_Label = False)"
     ],
     "language": "python",
     "metadata": {},
     "outputs": [
      {
       "output_type": "stream",
       "stream": "stderr",
       "text": [
        "-c:23: RuntimeWarning: invalid value encountered in log10\n",
        "-c:24: RuntimeWarning: invalid value encountered in sqrt\n"
       ]
      }
     ],
     "prompt_number": 24
    },
    {
     "cell_type": "markdown",
     "metadata": {},
     "source": [
      "### $I_{max}$ Plots"
     ]
    },
    {
     "cell_type": "code",
     "collapsed": false,
     "input": [
      "if 0:\n",
      "    Save = False\n",
      "    Xlabel = r'Resonator Max Current, $I_{max}$ [Amps]'\n",
      "    Ylabel = r'Internal Quality Factor $Q_i$'\n",
      "    Title = 'Internal Quality Factor versus\\nMax Current'\n",
      "    Plot_Data_Sets(\"Imax\", \"Qi\", Xlabel = Xlabel, Ylabel = Ylabel, Title = Title, Save = Save, Point_Label = False, Xscale = 'log')\n",
      "\n",
      "if 0:\n",
      "    Save = False\n",
      "    Xlabel = r'Resonator Max Current, $I_{max}$ [Amps]'\n",
      "    Ylabel = r'Coupling Quality Factor $Q_c$'\n",
      "    Title = 'Coupling Quality Factor versus\\nMax Current'\n",
      "    Plot_Data_Sets(\"Imax\", \"Qc\", Xlabel = Xlabel, Ylabel = Ylabel, Title = Title, Save = Save, Point_Label = False, Xscale = 'log')\n",
      "\n",
      "if 0:\n",
      "    Save = False\n",
      "    Xlabel = r'Resonator Max Current, $I_{max}$ [Amps]'\n",
      "    Ylabel = r'Loop Diameter, $Q/Q_c$'\n",
      "    Title = 'Loop Diameter versus\\nMax Current'\n",
      "    Plot_Data_Sets(\"Imax\", \"Q/Qc\", Xlabel = Xlabel, Ylabel = Ylabel, Title = Title, Save = Save, Point_Label = False, Xscale = 'log')\n",
      "\n",
      "if 0:\n",
      "    Save = False\n",
      "    Xlabel = r'Resonator Max Current, $I_{max}$ [Amps]'\n",
      "    Ylabel = r'Quality Factor $Q$'\n",
      "    Title = 'Quality Factor versus\\nMax Current'\n",
      "    Plot_Data_Sets(\"Imax\", \"Q\", Xlabel = Xlabel, Ylabel = Ylabel, Title = Title, Save = Save, Point_Label = False, Xscale = 'log')\n",
      "\n",
      "if 0:\n",
      "    Save = False\n",
      "    Xlabel = r'Resonator Max Current, $I_{max}$ [Amps]'\n",
      "    Ylabel = r'Fractional Resonant Frequency Shift, $\\delta f_r/f_r$'\n",
      "    Title = 'Resonance Frequency Shift versus\\nMax Current'\n",
      "    Plot_Data_Sets(\"Imax\", \"(Fr-Fr[0])/Fr[0]\", Xlabel = Xlabel, Ylabel = Ylabel, Title = Title, Save = Save, Point_Label = False,Xscale = 'log')"
     ],
     "language": "python",
     "metadata": {},
     "outputs": [],
     "prompt_number": 25
    },
    {
     "cell_type": "markdown",
     "metadata": {},
     "source": [
      "### $J_{max}$ Plots"
     ]
    },
    {
     "cell_type": "code",
     "collapsed": false,
     "input": [
      "if 0:\n",
      "    Save = False\n",
      "    Xlabel = r'Resonator Max Current Density,  $J_{max}$ [Amps/m^2]'\n",
      "    Ylabel = r'Internal Quality Factor $Q_i$'\n",
      "    Title = 'Internal Quality Factor versus\\nMax Current Density'\n",
      "    Plot_Data_Sets(\"Jmax\", \"Qi\", Xlabel = Xlabel, Ylabel = Ylabel, Title = Title, Save = Save, Point_Label = False, Xscale = 'log')\n",
      "\n",
      "if 0:\n",
      "    Save = False\n",
      "    Xlabel = r'Resonator Max Current Density,  $J_{max}$ [Amps/m^2]'\n",
      "    Ylabel = r'Coupling Quality Factor $Q_c$'\n",
      "    Title = 'Coupling Quality Factor versus\\nMax Current Density'\n",
      "    Plot_Data_Sets(\"Jmax\", \"Qc\", Xlabel = Xlabel, Ylabel = Ylabel, Title = Title, Save = Save, Point_Label = False, Xscale = 'log')\n",
      "\n",
      "if 0:\n",
      "    Save = False\n",
      "    Xlabel = r'Resonator Max Current Density,  $J_{max}$ [Amps/m^2]'\n",
      "    Ylabel = r'Loop Diameter, $Q/Q_c$'\n",
      "    Title = 'Loop Diameter versus\\nMax Current Density'\n",
      "    Plot_Data_Sets(\"Jmax\", \"Q/Qc\", Xlabel = Xlabel, Ylabel = Ylabel, Title = Title, Save = Save, Point_Label = False, Xscale = 'log')\n",
      "\n",
      "if 0:\n",
      "    Save = False\n",
      "    Xlabel = r'Resonator Max Current Density,  $J_{max}$ [Amps/m^2]'\n",
      "    Ylabel = r'Quality Factor $Q$'\n",
      "    Title = 'Quality Factor versus\\nMax Current Density'\n",
      "    Plot_Data_Sets(\"Jmax\", \"Q\", Xlabel = Xlabel, Ylabel = Ylabel, Title = Title, Save = Save, Point_Label = False, Xscale = 'log')\n",
      "\n",
      "if 0:\n",
      "    Save = False\n",
      "    Xlabel = r'Resonator Max Current Density,  $J_{max}$ [Amps/m^2]'\n",
      "    Ylabel = r'Fractional Resonant Frequency Shift, $\\delta f_r/f_r$'\n",
      "    Title = 'Resonance Frequency Shift versus\\nMax Current Density'\n",
      "    Plot_Data_Sets(\"Jmax\", \"(Fr-Fr[0])/Fr[0]\", Xlabel = Xlabel, Ylabel = Ylabel, Title = Title, Save = Save, Point_Label = False,Xscale = 'log')"
     ],
     "language": "python",
     "metadata": {},
     "outputs": [],
     "prompt_number": 26
    },
    {
     "cell_type": "code",
     "collapsed": false,
     "input": [],
     "language": "python",
     "metadata": {},
     "outputs": [],
     "prompt_number": 26
    },
    {
     "cell_type": "code",
     "collapsed": false,
     "input": [],
     "language": "python",
     "metadata": {},
     "outputs": [],
     "prompt_number": 26
    },
    {
     "cell_type": "code",
     "collapsed": false,
     "input": [],
     "language": "python",
     "metadata": {},
     "outputs": [],
     "prompt_number": 26
    },
    {
     "cell_type": "code",
     "collapsed": false,
     "input": [
      "#fig = plt.figure( figsize=(5.5, 4.5), dpi=100)\n",
      "fig = plt.figure( figsize=(5, 5), dpi=150)\n",
      "ax = fig.add_subplot(111)\n",
      "sweep = Run45aP\n",
      "index = 0; line1 = ax.plot(sweep.Sweep_Array['Frequencies'][index]/1e6,20*np.log10(np.abs(sweep.Sweep_Array['S21'][index])), label = '-100 dBm Probe Power', linewidth=3,linestyle= '-')\n",
      "index = 8; line2 = ax.plot(sweep.Sweep_Array['Frequencies'][index]/1e6,20*np.log10(np.abs(sweep.Sweep_Array['S21'][index])), label = '-72 dBm Probe Power', linewidth=3,linestyle= '-')\n",
      "index = 11; line3 = ax.plot(sweep.Sweep_Array['Frequencies'][index]/1e6,20*np.log10(np.abs(sweep.Sweep_Array['S21'][index])), label = '-66 dBm Probe Power', linewidth=3,linestyle= '-')\n",
      "#index = 18; line4 = ax.plot(sweep.Sweep_Array['Frequencies'][index]/1e6,20*np.log10(np.abs(sweep.Sweep_Array['S21'][index])), label = '-52 dBm Probe Power', linewidth=3,linestyle= '-')\n",
      "\n",
      "#S21_log_dB = lambda Q,Qc,Fr: \n",
      "\n",
      "ax.set_xlabel('Frequency [MHz]',color = 'k')\n",
      "#ax.xaxis.get_major_formatter().set_powerlimits((0, 1))\n",
      "ax.ticklabel_format(axis='x', style='plain', scilimits=(0,0),useOffset=False)\n",
      "ax.xaxis.set_major_locator(plt.LinearLocator(5))\n",
      "ax.set_ylabel('$|S_{21}|$ [dB]', color='k')\n",
      "ax.set_title('Trsansmission Around Resonance at Different Powers: \\n\\n 64 $\\mu m$ wide Al microstrip on Nb ground plane, Run 45a', fontsize=9)\n",
      "ax.legend(loc = 'best', fontsize=9)\n",
      "ax.grid()\n",
      "plt.subplots_adjust(left=.15, bottom=.15, right=None, top=.85)\n",
      "plt.show()\n",
      "\n",
      "def Print_Quantities(index):\n",
      "    sweep = Run45aP\n",
      "    Q = sweep.Sweep_Array['Q'][index]\n",
      "    Qc = sweep.Sweep_Array['Qc'][index]\n",
      "    Qi = 1.0/((1.0/Q)-(1.0/Qc))\n",
      "    Pr = sweep.Sweep_Array['Preadout_dB'][index] \n",
      "    print('Q = {0}; Qc = {1}; Qi = {2}; Pr = {3}'.format(Q, Qc,Qi,Pr))\n",
      "\n",
      "Print_Quantities(0)\n",
      "Print_Quantities(8)\n",
      "Print_Quantities(11)\n",
      "\n",
      "\n",
      "#fig.savefig('Transmission_at_Different_Powers', dpi = 300, transparency  = True)"
     ],
     "language": "python",
     "metadata": {},
     "outputs": [
      {
       "output_type": "stream",
       "stream": "stdout",
       "text": [
        "Q = 145122.569784; Qc = 306239.342945; Qi = 275838.694788; Pr = -99.8813079567\n",
        "Q = 116033.175729; Qc = 302183.11256; Qi = 188360.344349; Pr = -71.881292296\n",
        "Q = 115003.51641; Qc = 354662.804729; Qi = 170189.396663; Pr = -65.8812729602\n"
       ]
      }
     ],
     "prompt_number": 27
    },
    {
     "cell_type": "code",
     "collapsed": false,
     "input": [
      "sweep = Run45aP\n",
      "print(sweep.Sweep_Array['Pinput_dB'])\n",
      "def plot_routine(index):\n",
      "    sweep.pick_loop(index)\n",
      "    sweep.decompress_gain(Compression_Calibration_Index = -1, Show_Plot = False, Verbose = False)\n",
      "    sweep.remove_cable_delay(Show_Plot = False, Verbose = False) \n",
      "    sweep.circle_fit(Show_Plot = True) \n",
      "    sweep.phase_fit(Fit_Method = 'Multiple',Verbose = True, Show_Plot = True)\n",
      "    print(sweep.loop.Phase_Fit_Method)\n",
      "plot_routine(11)\n"
     ],
     "language": "python",
     "metadata": {},
     "outputs": [
      {
       "output_type": "stream",
       "stream": "stdout",
       "text": [
        "[-55. -45. -40. -37. -35. -33. -31. -29. -27. -25. -23. -21. -19. -17. -15.\n",
        " -13. -11.  -9.  -7.]\n",
        "Duplicates cuts:\n",
        "\t2 duplicate frequencies removed from loop data, 1598 remaining data points"
       ]
      },
      {
       "output_type": "stream",
       "stream": "stdout",
       "text": [
        "\n",
        "Radius cut:\n",
        "\t1 points < r_loop*0.75 or > r_loop*1.75 found and removed, 1597 remaining data points\n",
        "Bandwidth cut:\n",
        "\t0 points outside of fr_est +/- 8*FWHM_est removed, 1597 remaining data points\n",
        "Angle jump cut:\n",
        "\t0 points with discontinuous jumps in loop angle removed, 1597 remaining data points\n",
        "Initial Guess:\n",
        "\tLoop rotation 5.65789425035, fr 664758919.277, Q 122949.624189\n",
        "\n",
        "Nelder-Mead Minimzation Result:\n",
        "  status: 0\n",
        "    nfev: 634\n",
        " success: True\n",
        "     fun: 197.62349784459917\n",
        "       x: array([  3.79211872e+00,   6.64759635e+08,   1.15003509e+05])\n",
        " message: 'Optimization terminated successfully.'\n",
        "     nit: 289\n",
        "\n",
        "\n",
        "Powell Minimzation Result:\n",
        "  status: 0\n",
        " success: True\n",
        "   direc: array([[ -2.91794072e-03,   2.13631909e+01,  -4.38476360e+02],\n",
        "       [ -7.41155255e-02,   1.97373700e+01,  -2.23549890e+02],\n",
        "       [  3.15870782e-07,  -3.35480171e-03,  -4.68944283e-01]])\n",
        "    nfev: 963\n",
        "     fun: 197.62349784468802\n",
        "       x: array([  3.79211876e+00,   6.64759635e+08,   1.15003561e+05])\n",
        " message: 'Optimization terminated successfully.'\n",
        "     nit: 7\n",
        "\n",
        "\n",
        "Newton-CG Minimzation Result:\n",
        "  status: 2\n",
        " success: False\n",
        "    njev: 15\n",
        "    nfev: 26\n",
        "     fun: 291.89554965276966\n",
        "       x: array([ 3.7055922,  6.6475892e+08,  122949.62], dtype=float128)\n",
        " message: 'Desired error not necessarily achieved due to precision loss.'\n",
        "    nhev: 2\n",
        "     jac: array([ 24281.608, -3.572282,  0.008196989], dtype=float128)\n",
        "\n"
       ]
      },
      {
       "ename": "AttributeError",
       "evalue": "loop instance has no attribute 'Phase_Fit_Method'",
       "output_type": "pyerr",
       "traceback": [
        "\u001b[0;31m---------------------------------------------------------------------------\u001b[0m\n\u001b[0;31mAttributeError\u001b[0m                            Traceback (most recent call last)",
        "\u001b[0;32m<ipython-input-28-bf9da19225aa>\u001b[0m in \u001b[0;36m<module>\u001b[0;34m()\u001b[0m\n\u001b[1;32m      8\u001b[0m     \u001b[0msweep\u001b[0m\u001b[0;34m.\u001b[0m\u001b[0mphase_fit\u001b[0m\u001b[0;34m(\u001b[0m\u001b[0mFit_Method\u001b[0m \u001b[0;34m=\u001b[0m \u001b[0;34m'Multiple'\u001b[0m\u001b[0;34m,\u001b[0m\u001b[0mVerbose\u001b[0m \u001b[0;34m=\u001b[0m \u001b[0mTrue\u001b[0m\u001b[0;34m,\u001b[0m \u001b[0mShow_Plot\u001b[0m \u001b[0;34m=\u001b[0m \u001b[0mTrue\u001b[0m\u001b[0;34m)\u001b[0m\u001b[0;34m\u001b[0m\u001b[0m\n\u001b[1;32m      9\u001b[0m     \u001b[0;32mprint\u001b[0m\u001b[0;34m(\u001b[0m\u001b[0msweep\u001b[0m\u001b[0;34m.\u001b[0m\u001b[0mloop\u001b[0m\u001b[0;34m.\u001b[0m\u001b[0mPhase_Fit_Method\u001b[0m\u001b[0;34m)\u001b[0m\u001b[0;34m\u001b[0m\u001b[0m\n\u001b[0;32m---> 10\u001b[0;31m \u001b[0mplot_routine\u001b[0m\u001b[0;34m(\u001b[0m\u001b[0;36m11\u001b[0m\u001b[0;34m)\u001b[0m\u001b[0;34m\u001b[0m\u001b[0m\n\u001b[0m",
        "\u001b[0;32m<ipython-input-28-bf9da19225aa>\u001b[0m in \u001b[0;36mplot_routine\u001b[0;34m(index)\u001b[0m\n\u001b[1;32m      7\u001b[0m     \u001b[0msweep\u001b[0m\u001b[0;34m.\u001b[0m\u001b[0mcircle_fit\u001b[0m\u001b[0;34m(\u001b[0m\u001b[0mShow_Plot\u001b[0m \u001b[0;34m=\u001b[0m \u001b[0mTrue\u001b[0m\u001b[0;34m)\u001b[0m\u001b[0;34m\u001b[0m\u001b[0m\n\u001b[1;32m      8\u001b[0m     \u001b[0msweep\u001b[0m\u001b[0;34m.\u001b[0m\u001b[0mphase_fit\u001b[0m\u001b[0;34m(\u001b[0m\u001b[0mFit_Method\u001b[0m \u001b[0;34m=\u001b[0m \u001b[0;34m'Multiple'\u001b[0m\u001b[0;34m,\u001b[0m\u001b[0mVerbose\u001b[0m \u001b[0;34m=\u001b[0m \u001b[0mTrue\u001b[0m\u001b[0;34m,\u001b[0m \u001b[0mShow_Plot\u001b[0m \u001b[0;34m=\u001b[0m \u001b[0mTrue\u001b[0m\u001b[0;34m)\u001b[0m\u001b[0;34m\u001b[0m\u001b[0m\n\u001b[0;32m----> 9\u001b[0;31m     \u001b[0;32mprint\u001b[0m\u001b[0;34m(\u001b[0m\u001b[0msweep\u001b[0m\u001b[0;34m.\u001b[0m\u001b[0mloop\u001b[0m\u001b[0;34m.\u001b[0m\u001b[0mPhase_Fit_Method\u001b[0m\u001b[0;34m)\u001b[0m\u001b[0;34m\u001b[0m\u001b[0m\n\u001b[0m\u001b[1;32m     10\u001b[0m \u001b[0mplot_routine\u001b[0m\u001b[0;34m(\u001b[0m\u001b[0;36m11\u001b[0m\u001b[0;34m)\u001b[0m\u001b[0;34m\u001b[0m\u001b[0m\n",
        "\u001b[0;31mAttributeError\u001b[0m: loop instance has no attribute 'Phase_Fit_Method'"
       ]
      }
     ],
     "prompt_number": 28
    },
    {
     "cell_type": "code",
     "collapsed": false,
     "input": [
      "Run45aP.metadata.LNA"
     ],
     "language": "python",
     "metadata": {},
     "outputs": []
    },
    {
     "cell_type": "code",
     "collapsed": false,
     "input": [],
     "language": "python",
     "metadata": {},
     "outputs": []
    },
    {
     "cell_type": "code",
     "collapsed": false,
     "input": [],
     "language": "python",
     "metadata": {},
     "outputs": []
    }
   ],
   "metadata": {}
  }
 ]
}