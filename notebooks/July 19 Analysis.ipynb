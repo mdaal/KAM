{
 "metadata": {
  "name": "",
  "signature": "sha256:d89f23684d40180f5c50ac6c54b8725f63a7e8ef1e2ba8a6c35d6e865b1a7322"
 },
 "nbformat": 3,
 "nbformat_minor": 0,
 "worksheets": [
  {
   "cells": [
    {
     "cell_type": "code",
     "collapsed": false,
     "input": [
      "#%pylab inline\n",
      "%pylab\n",
      "import os\n",
      "os.chdir('/Users/miguel_daal/Documents/Projects/Python_Res_Fit/KAM')\n",
      "import KAM\n",
      "reload(KAM)\n",
      "from  datetime import date\n",
      "import collections\n",
      "import matplotlib.gridspec as gridspec"
     ],
     "language": "python",
     "metadata": {},
     "outputs": [
      {
       "output_type": "stream",
       "stream": "stdout",
       "text": [
        "Using matplotlib backend: MacOSX\n",
        "Populating the interactive namespace from numpy and matplotlib\n"
       ]
      }
     ],
     "prompt_number": 1
    },
    {
     "cell_type": "code",
     "collapsed": false,
     "input": [
      "os.chdir('/Users/miguel_daal/Documents/Projects/Python_Res_Fit/KAM')"
     ],
     "language": "python",
     "metadata": {},
     "outputs": [],
     "prompt_number": 2
    },
    {
     "cell_type": "code",
     "collapsed": false,
     "input": [
      "# Remember generate database so that this step can load the datasets in the database. \n",
      "# To general database issue the following command from terminal. The process make take 30 - 90 min to complete\n",
      "# run -i Create_Library\n",
      "\n",
      "Ver = 2\n",
      "%run -i Load_Datasets.py"
     ],
     "language": "python",
     "metadata": {},
     "outputs": [],
     "prompt_number": 3
    },
    {
     "cell_type": "markdown",
     "metadata": {},
     "source": [
      "## Power Sweeps"
     ]
    },
    {
     "cell_type": "code",
     "collapsed": false,
     "input": [
      "#data extraction conditions for  power sweeps\n",
      "#Power_Sweeps = [Run51aP,Run51bP,Run49aP ,Run48bP    , Run48aP  ,Run46aPl ,Run46aPh   ,Run45bP  ,Run45aP  ,Run44bP    ,Run44aP    ,Run52b1st  ,Run52b2nd]\n",
      "condition =     ['Q>0'  ,'Q>0'  ,'Pr<-65','Qc<700000', 'Pr<-68' ,'Qc>0'   ,'(Q<210000)&(Qc>0)' ,'Pr<-45' ,'Pr<-60' ,'Qc<700000','Qc<200000','Q>0'   ,'Q>0'   ]\n",
      "for sweep in xrange(len(Power_Sweeps)):\n",
      "    Power_Sweeps[sweep].metadata.condition = condition[sweep]"
     ],
     "language": "python",
     "metadata": {},
     "outputs": [],
     "prompt_number": 4
    },
    {
     "cell_type": "code",
     "collapsed": false,
     "input": [
      "#sort power sweep list so that narrowest resonator is first and widest is last\n",
      "Power_Sweeps.sort(key = lambda w: w.metadata.Resonator_Width)"
     ],
     "language": "python",
     "metadata": {},
     "outputs": [],
     "prompt_number": 5
    },
    {
     "cell_type": "code",
     "collapsed": false,
     "input": [
      "def Plot_Data_Sets(X_expression, Y_expression, Xlabel = None, Ylabel = None, Title = None, Show_Title = True, Save = False,Point_Label = True,Marker_Map = True,Yscale = 'linear', Xscale = 'linear' ):\n",
      "    \n",
      "    fig = plt.figure( figsize=(6.5,7), dpi=150)\n",
      "#     fig = plt.figure()\n",
      "#     fig.set_size_inches([6.5,7], forward=True)\n",
      "#     fig.set_dpi(150)\n",
      "    ax = fig.add_subplot(111)\n",
      "    #norm = mpl.colors.Normalize(vmin=0, vmax=len(Power_Sweeps))\n",
      "    norm = mpl.colors.Normalize(vmin=2, vmax=8)\n",
      "    scalarMap = cm.ScalarMappable(norm=norm, cmap='gist_rainbow')\n",
      "    count = collections.Counter()\n",
      "    \n",
      "    markers = {1:'1', 2:'2', 3:'3', 4:'4'}\n",
      "    lines = {}\n",
      "    for sweep in xrange(len(Power_Sweeps)):\n",
      "        if Power_Sweeps[sweep].metadata.custom[0] == True: #the show flag\n",
      "            # If Power_Sweeps[sweep].metadata.condition references Pr, Q etc we will need to have these defined...\n",
      "            width = int(Power_Sweeps[sweep].metadata.Resonator_Width*1e6) \n",
      "            Z1 = Power_Sweeps[sweep].metadata.Feedline_Impedance\n",
      "            Z3 = Power_Sweeps[sweep].metadata.Resonator_Impedance\n",
      "            Pr = Power_Sweeps[sweep].Sweep_Array['Preadout_dB'] \n",
      "            Qc = Power_Sweeps[sweep].Sweep_Array['Qc']\n",
      "            Q =  Power_Sweeps[sweep].Sweep_Array['Q']\n",
      "            Fr =  Power_Sweeps[sweep].Sweep_Array['Fr']\n",
      "            Fr_min =Fr[0] if Power_Sweeps[sweep].metadata.custom[3] == None else eval(Power_Sweeps[sweep].metadata.custom[3])\n",
      "            Temp = Power_Sweeps[sweep].Sweep_Array['Temperature']\n",
      "            Qi = 1.0/((1.0/Q)-(1.0/Qc))\n",
      "            Res_Tk = Power_Sweeps[sweep].metadata.Resonator_Thickness\n",
      "            Gnd_Tk = Power_Sweeps[sweep].metadata.Ground_Plane_Thickness\n",
      "            \n",
      "            Pr_Volts_Peak = np.power(10,(Pr-10)/20) #Volts Peak\n",
      "            Pr_Watts =  np.square(Pr_Volts_Peak)/(2*50)#watts\n",
      "            Pint = 10*np.log10(Pr_Watts*Q*Q/(np.pi*Qc)) #dBm\n",
      "            Imax = 2*Pr_Volts_Peak*Q/np.sqrt(np.pi*Z1*Z3*Qc) #Amps\n",
      "            Jmax = Imax/(width*1e-6*Gnd_Tk)\n",
      "\n",
      "            cond = eval(Power_Sweeps[sweep].metadata.condition)\n",
      "            cont = (Power_Sweeps[sweep].Sweep_Array['Is_Valid'] == True) & (cond)\n",
      "            X_array = eval(X_expression)\n",
      "            Y_array = eval(Y_expression)\n",
      "            xdict = dict(zip(X_array,arange(X_array.size)))\n",
      "            x = np.extract(cond,X_array)\n",
      "            y = np.extract(cond,Y_array)\n",
      "            if Marker_Map == True:\n",
      "                count[str(width)] +=1\n",
      "                mark = markers[count[str(width)]]\n",
      "            else:\n",
      "                mark ='.'\n",
      "            lines[sweep], = ax.plot(x,y, color = scalarMap.to_rgba(np.log2(width)), label = str(width)+ '$\\mu m$; Run '+ Power_Sweeps[sweep].metadata.Run + '; '+ str(int(Power_Sweeps[sweep].metadata.Ground_Plane_Thickness*1e9)) + 'nm Gnd' + Power_Sweeps[sweep].metadata.custom[1], linewidth=3,linestyle= Power_Sweeps[sweep].metadata.custom[2], marker = mark,markeredgecolor = 'k',  markerfacecolor = 'k',markersize = 3 )        \n",
      "            #line = ax.plot(x,y, color = scalarMap.to_rgba(sweep), label = str(width)+ '$\\mu m$; Run '+ Power_Sweeps[sweep].metadata.Run, linewidth=3,linestyle= '-', marker = '.', markerfacecolor = 'k' )\n",
      "            if Point_Label == True:\n",
      "                for i,j in zip(x,y):\n",
      "                    if mod(xdict[i],5) == 0:\n",
      "                        ax.annotate(str(xdict[i]),xy=(i,j), size = 4, rotation = 90,xytext=(i,j))\n",
      "        \n",
      "    \n",
      "    ax.legend(loc = 'upper center', fontsize=7, bbox_to_anchor=(0.45, -0.15), ncol=3,scatterpoints =1, numpoints = 1, labelspacing = .02)\n",
      "    ax.set_xscale(Xscale)\n",
      "    ax.set_yscale(Yscale)\n",
      "    \n",
      "    #ax.ticklabel_format(axis='y', style='sci',useOffset=False)\n",
      "    #ax.yaxis.get_major_formatter().set_useOffset(True)\n",
      "    #ax.yaxis.get_major_formatter().set_scientific(True)\n",
      "    frm = mpl.ticker.ScalarFormatter(useOffset=False, useMathText=None, useLocale=None)\n",
      "    frm.set_powerlimits((2,7))\n",
      "    frm.set_scientific(True)\n",
      "    ax.yaxis.set_major_formatter(frm)\n",
      "    #ax.set_ylim([-0.000001,0.0000015])\n",
      "    ax.set_ylabel(Ylabel, color='k')\n",
      "    ax.set_xlabel(Xlabel, color='k')\n",
      "    ax.xaxis.labelpad = 10 #move the xlabel down a bit, also possible with ax.xaxis.set_label_coords(0.5, -0.1)\n",
      "\n",
      "    if Show_Title == False:\n",
      "        plt.subplots_adjust(left=.2, bottom=0.2, right=None, top=.95)\n",
      "    else:\n",
      "        ax.set_title(Title)\n",
      "        plt.subplots_adjust(left=.2, bottom=0.2, right=None, top=None)\n",
      "    ax.tick_params(axis='y', labelsize=9)\n",
      "    ax.tick_params(axis='x', labelsize=9)\n",
      "    ax.grid()\n",
      "\n",
      "    if Save == True:\n",
      "        #loc = os.getcwd()\n",
      "        #os.chdir(loc+os.sep+'Plots')\n",
      "        loc = '/Users/miguel_daal/Documents/Projects/Python_Res_Fit/KAM'\n",
      "        os.chdir('/Users/miguel_daal/Documents/Projects/Python_Res_Fit/KAM/Plots/')\n",
      "        fig.savefig(Title.replace('\\n','_').replace(' ','_')+'_'+date.today().strftime(\"%Y%m%d\"),dpi=300, transparency  = True,bbox_inches='tight')\n",
      "        os.chdir(loc)\n",
      "    #fig.set_size_inches([5,5], forward=True)\n",
      "    #fig.draw()\n",
      "    plt.show() \n",
      "    return (fig,ax,lines)"
     ],
     "language": "python",
     "metadata": {},
     "outputs": [],
     "prompt_number": 6
    },
    {
     "cell_type": "markdown",
     "metadata": {},
     "source": [
      "### Probe Power Plots"
     ]
    },
    {
     "cell_type": "code",
     "collapsed": false,
     "input": [
      "if 1: \n",
      "    Save = True\n",
      "    Xlabel = 'Probe Power [dBm]'\n",
      "    Ylabel = 'Internal Quality Factor, $Q_i$'\n",
      "    Title = 'Internal Quality Factor versus\\nProbe Power'\n",
      "    Show_Title = False\n",
      "    Plot_Data_Sets(\"Pr\", \"Qi\", Xlabel = Xlabel, Ylabel = Ylabel, Title = Title, Save = Save, Show_Title = Show_Title, Point_Label = False)\n",
      "\n",
      "if 1:\n",
      "    Save = True\n",
      "    Xlabel = 'Probe Power [dBm]'\n",
      "    Ylabel = 'Coupling Quality Factor, $Q_c$'\n",
      "    Title = 'Coupling Quality Factor versus\\nProbe Power'\n",
      "    Show_Title = False\n",
      "    Plot_Data_Sets(\"Pr\", \"Qc\", Xlabel = Xlabel, Ylabel = Ylabel, Title = Title, Save = Save, Show_Title = Show_Title, Point_Label = False)\n",
      " \n",
      "if 1:\n",
      "    Save = True\n",
      "    Xlabel = 'Probe Power [dBm]'\n",
      "    Ylabel = 'Loop Diameter, $Q/Q_c$'\n",
      "    Title = 'Loop Diameter versus\\nProbe Power'\n",
      "    Show_Title = False\n",
      "    Plot_Data_Sets(\"Pr\", \"Q/Qc\", Xlabel = Xlabel, Ylabel = Ylabel, Title = Title, Save = Save, Point_Label = False,Show_Title = Show_Title)\n",
      "\n",
      "if 1:\n",
      "    Save = True\n",
      "    Xlabel = 'Probe Power [dBm]'\n",
      "    Ylabel = r'Fractional Resonant Frequency Shift, $\\delta f_r/f_r$'\n",
      "    Title = 'Fractional Frequency Shift versus\\nProbe Power'\n",
      "    Show_Title = False\n",
      "    h1 = Plot_Data_Sets(\"Pr\", \"(Fr-Fr_min)/Fr_min\", Xlabel = Xlabel, Ylabel = Ylabel, Title = Title, Save = Save, Show_Title = Show_Title, Point_Label = False)\n",
      "       "
     ],
     "language": "python",
     "metadata": {},
     "outputs": [
      {
       "output_type": "stream",
       "stream": "stderr",
       "text": [
        "-c:33: RuntimeWarning: invalid value encountered in log10\n",
        "-c:34: RuntimeWarning: invalid value encountered in sqrt\n",
        "-c:33: RuntimeWarning: invalid value encountered in log10\n"
       ]
      },
      {
       "output_type": "stream",
       "stream": "stderr",
       "text": [
        "-c:34: RuntimeWarning: invalid value encountered in sqrt\n",
        "-c:33: RuntimeWarning: invalid value encountered in log10\n"
       ]
      },
      {
       "output_type": "stream",
       "stream": "stderr",
       "text": [
        "-c:34: RuntimeWarning: invalid value encountered in sqrt\n",
        "-c:33: RuntimeWarning: invalid value encountered in log10\n"
       ]
      },
      {
       "output_type": "stream",
       "stream": "stderr",
       "text": [
        "-c:34: RuntimeWarning: invalid value encountered in sqrt\n"
       ]
      }
     ],
     "prompt_number": 7
    },
    {
     "cell_type": "markdown",
     "metadata": {},
     "source": [
      "### Internal Power"
     ]
    },
    {
     "cell_type": "code",
     "collapsed": false,
     "input": [
      "Save = True\n",
      "Xlabel = r'Resonator Internal Power,  $\\frac{Q^2\\cdot P_{probe}}{Q_c \\pi}$ [dBm]'\n",
      "Ylabel = r'Internal Quality Factor $Q_i$'\n",
      "Title = 'Internal Quality Factor versus\\nInternal Power'\n",
      "Show_Title = False\n",
      "Plot_Data_Sets(\"Pint\", \"Qi\", Xlabel = Xlabel, Ylabel = Ylabel, Title = Title, Save = Save, Point_Label = False,Show_Title = Show_Title);"
     ],
     "language": "python",
     "metadata": {},
     "outputs": [
      {
       "output_type": "stream",
       "stream": "stderr",
       "text": [
        "-c:33: RuntimeWarning: invalid value encountered in log10\n",
        "-c:34: RuntimeWarning: invalid value encountered in sqrt\n"
       ]
      }
     ],
     "prompt_number": 8
    },
    {
     "cell_type": "markdown",
     "metadata": {},
     "source": [
      "### $I_{max}$ Plots"
     ]
    },
    {
     "cell_type": "code",
     "collapsed": false,
     "input": [
      "if 1:\n",
      "    Save = True\n",
      "    Xlabel = r'Resonator Max Current, $I_{max}$ [Amps]'\n",
      "    Ylabel = r'Internal Quality Factor $Q_i$'\n",
      "    Title = 'Internal Quality Factor versus\\nMax Current'\n",
      "    Show_Title = False\n",
      "    Plot_Data_Sets(\"Imax\", \"Qi\", Xlabel = Xlabel, Ylabel = Ylabel, Title = Title, Save = Save, Point_Label = False, Xscale = 'log',Show_Title = Show_Title)\n",
      "\n",
      "if 1:\n",
      "    Save = True\n",
      "    Xlabel = r'Resonator Max Current, $I_{max}$ [Amps]'\n",
      "    Ylabel = r'Coupling Quality Factor $Q_c$'\n",
      "    Title = 'Coupling Quality Factor versus\\nMax Current'\n",
      "    Show_Title = False\n",
      "    Plot_Data_Sets(\"Imax\", \"Qc\", Xlabel = Xlabel, Ylabel = Ylabel, Title = Title, Save = Save, Point_Label = False, Xscale = 'log',Show_Title = Show_Title)\n",
      "\n",
      "if 1:\n",
      "    Save = True\n",
      "    Xlabel = r'Resonator Max Current, $I_{max}$ [Amps]'\n",
      "    Ylabel = r'Loop Diameter, $Q/Q_c$'\n",
      "    Title = 'Loop Diameter versus\\nMax Current'\n",
      "    Show_Title = False\n",
      "    Plot_Data_Sets(\"Imax\", \"Q/Qc\", Xlabel = Xlabel, Ylabel = Ylabel, Title = Title, Save = Save, Point_Label = False, Xscale = 'log',Show_Title = Show_Title)\n",
      "\n",
      "if 1:\n",
      "    Save = True\n",
      "    Xlabel = r'Resonator Max Current, $I_{max}$ [Amps]'\n",
      "    Ylabel = r'Quality Factor $Q$'\n",
      "    Title = 'Quality Factor versus\\nMax Current'\n",
      "    Show_Title = False\n",
      "    Plot_Data_Sets(\"Imax\", \"Q\", Xlabel = Xlabel, Ylabel = Ylabel, Title = Title, Save = Save, Point_Label = False, Xscale = 'log',Show_Title = Show_Title)\n",
      "\n",
      "if 1:\n",
      "    Save = True\n",
      "    Xlabel = r'Resonator Max Current, $I_{max}$ [Amps]'\n",
      "    Ylabel = r'Fractional Resonant Frequency Shift, $\\delta f_r/f_r$'\n",
      "    Title = 'Fractional Frequency Shift versus\\nMax Current'\n",
      "    Show_Title = False\n",
      "    h2 = Plot_Data_Sets(\"Imax\", \"(Fr-Fr_min)/Fr_min\", Xlabel = Xlabel, Ylabel = Ylabel, Title = Title, Save = Save, Point_Label = False,Xscale = 'log',Show_Title = Show_Title)"
     ],
     "language": "python",
     "metadata": {},
     "outputs": [
      {
       "output_type": "stream",
       "stream": "stderr",
       "text": [
        "-c:33: RuntimeWarning: invalid value encountered in log10\n",
        "-c:34: RuntimeWarning: invalid value encountered in sqrt\n",
        "-c:33: RuntimeWarning: invalid value encountered in log10\n"
       ]
      },
      {
       "output_type": "stream",
       "stream": "stderr",
       "text": [
        "-c:34: RuntimeWarning: invalid value encountered in sqrt\n",
        "-c:33: RuntimeWarning: invalid value encountered in log10\n"
       ]
      },
      {
       "output_type": "stream",
       "stream": "stderr",
       "text": [
        "-c:34: RuntimeWarning: invalid value encountered in sqrt\n",
        "-c:33: RuntimeWarning: invalid value encountered in log10\n"
       ]
      },
      {
       "output_type": "stream",
       "stream": "stderr",
       "text": [
        "-c:34: RuntimeWarning: invalid value encountered in sqrt\n",
        "-c:33: RuntimeWarning: invalid value encountered in log10\n"
       ]
      },
      {
       "output_type": "stream",
       "stream": "stderr",
       "text": [
        "-c:34: RuntimeWarning: invalid value encountered in sqrt\n"
       ]
      }
     ],
     "prompt_number": 9
    },
    {
     "cell_type": "markdown",
     "metadata": {},
     "source": [
      "### $J_{max}$ Plots"
     ]
    },
    {
     "cell_type": "code",
     "collapsed": false,
     "input": [
      "if 1:\n",
      "    Save = True\n",
      "    Xlabel = r'Resonator Max Current Density,  $J_{max}$ [Amps/m^2]'\n",
      "    Ylabel = r'Internal Quality Factor $Q_i$'\n",
      "    Title = 'Internal Quality Factor versus\\nMax Current Density'\n",
      "    Show_Title = False\n",
      "    Plot_Data_Sets(\"Jmax\", \"Qi\", Xlabel = Xlabel, Ylabel = Ylabel, Title = Title, Save = Save, Point_Label = False, Xscale = 'log',Show_Title = Show_Title)\n",
      "\n",
      "if 1:\n",
      "    Save = True\n",
      "    Xlabel = r'Resonator Max Current Density,  $J_{max}$ [Amps/m^2]'\n",
      "    Ylabel = r'Coupling Quality Factor $Q_c$'\n",
      "    Title = 'Coupling Quality Factor versus\\nMax Current Density'\n",
      "    Show_Title = False\n",
      "    Plot_Data_Sets(\"Jmax\", \"Qc\", Xlabel = Xlabel, Ylabel = Ylabel, Title = Title, Save = Save, Point_Label = False, Xscale = 'log',Show_Title = Show_Title)\n",
      "\n",
      "if 1:\n",
      "    Save = True\n",
      "    Xlabel = r'Resonator Max Current Density,  $J_{max}$ [Amps/m^2]'\n",
      "    Ylabel = r'Loop Diameter, $Q/Q_c$'\n",
      "    Title = 'Loop Diameter versus\\nMax Current Density'\n",
      "    Show_Title = False\n",
      "    Plot_Data_Sets(\"Jmax\", \"Q/Qc\", Xlabel = Xlabel, Ylabel = Ylabel, Title = Title, Save = Save, Point_Label = False, Xscale = 'log',Show_Title = Show_Title)\n",
      "\n",
      "if 1:\n",
      "    Save = True\n",
      "    Xlabel = r'Resonator Max Current Density,  $J_{max}$ [Amps/m^2]'\n",
      "    Ylabel = r'Quality Factor $Q$'\n",
      "    Title = 'Quality Factor versus\\nMax Current Density'\n",
      "    Show_Title = False\n",
      "    Plot_Data_Sets(\"Jmax\", \"Q\", Xlabel = Xlabel, Ylabel = Ylabel, Title = Title, Save = Save, Point_Label = False, Xscale = 'log',Show_Title = Show_Title)\n",
      "\n",
      "if 1:\n",
      "    Save = True\n",
      "    Xlabel = r'Resonator Max Current Density,  $J_{max}$ [Amps/m^2]'\n",
      "    Ylabel = r'Fractional Resonant Frequency Shift, $\\delta f_r/f_r$'\n",
      "    Title = 'Fractional Frequency Shift versus\\nMax Current Density'\n",
      "    Show_Title = False\n",
      "    Plot_Data_Sets(\"Jmax\", \"(Fr-Fr_min)/Fr_min\", Xlabel = Xlabel, Ylabel = Ylabel, Title = Title, Save = Save, Point_Label = False,Xscale = 'log',Show_Title = Show_Title)"
     ],
     "language": "python",
     "metadata": {},
     "outputs": [
      {
       "output_type": "stream",
       "stream": "stderr",
       "text": [
        "-c:33: RuntimeWarning: invalid value encountered in log10\n",
        "-c:34: RuntimeWarning: invalid value encountered in sqrt\n",
        "-c:33: RuntimeWarning: invalid value encountered in log10\n"
       ]
      },
      {
       "output_type": "stream",
       "stream": "stderr",
       "text": [
        "-c:34: RuntimeWarning: invalid value encountered in sqrt\n",
        "-c:33: RuntimeWarning: invalid value encountered in log10\n"
       ]
      },
      {
       "output_type": "stream",
       "stream": "stderr",
       "text": [
        "-c:34: RuntimeWarning: invalid value encountered in sqrt\n",
        "-c:33: RuntimeWarning: invalid value encountered in log10\n"
       ]
      },
      {
       "output_type": "stream",
       "stream": "stderr",
       "text": [
        "-c:34: RuntimeWarning: invalid value encountered in sqrt\n",
        "-c:33: RuntimeWarning: invalid value encountered in log10\n"
       ]
      },
      {
       "output_type": "stream",
       "stream": "stderr",
       "text": [
        "-c:34: RuntimeWarning: invalid value encountered in sqrt\n"
       ]
      }
     ],
     "prompt_number": 10
    },
    {
     "cell_type": "markdown",
     "metadata": {},
     "source": [
      "###Zoomed in Plots"
     ]
    },
    {
     "cell_type": "code",
     "collapsed": false,
     "input": [
      "# Plot Frac Freq  Shift of power sweep data and zoom shift\n",
      "\n",
      "\n",
      "def Replot_Zoomed_In(handles, Title = None, Xlabel = None, Ylabel = None,Save = False,Xlimits = [None,None],Ylimits_Top = [None,None]): \n",
      "    (fig,ax0, lines) = handles\n",
      "    fig = plt.figure(figsize=(5, 5), dpi=150)\n",
      "    ax = {} \n",
      "    frm = {} #tick formator\n",
      "    lcr= {} #tick locator\n",
      "\n",
      "    gs = gridspec.GridSpec(4, 1)\n",
      "    ax[1] = plt.subplot(gs[0, 0])\n",
      "    ax[2] = plt.subplot(gs[1:4, 0])\n",
      "    gs.update(hspace=0)\n",
      "\n",
      "    fig.text(0.5, 0.02, Xlabel, ha='center')\n",
      "    fig.text(0.02, 0.5, Ylabel, va='center', rotation='vertical')\n",
      "    # ax[2].set_ylabel(Ylabel, color='k')\n",
      "    # ax[2].set_xlabel(Xlabel, color='k')\n",
      "\n",
      "\n",
      "    \n",
      "\n",
      "    for n in [1,2]:\n",
      "        for key in lines.keys():\n",
      "            ax[n].plot(lines[key].get_data()[0], lines[key].get_data()[1],linewidth=lines[key].get_linewidth(), marker = lines[key].get_marker(),\n",
      "                       markeredgecolor = lines[key].get_markeredgecolor(),  markerfacecolor = lines[key].get_markerfacecolor(),\n",
      "                       markersize = lines[key].get_markersize(), label = lines[key].get_label(), linestyle = lines[key].get_linestyle(),\n",
      "                       color = lines[key].get_color())\n",
      "        ax[n].set_xscale(ax0.get_xscale())\n",
      "        ax[n].set_yscale(ax0.get_yscale())\n",
      "        #ax[n].tick_params(axis='y',pad = 10)\n",
      "        frm[n] = mpl.ticker.ScalarFormatter(useOffset=False, useMathText=None, useLocale=None)\n",
      "        frm[n].set_powerlimits((2,7))\n",
      "        frm[n].set_scientific(True)\n",
      "        lcr[n] = mpl.ticker.MaxNLocator( prune='both') \n",
      "        ax[n].yaxis.set_major_formatter(frm[n])\n",
      "        ax[n].yaxis.set_major_locator(lcr[n])\n",
      "        ax[n].set_xlim(left = Xlimits[0], right = Xlimits[1])\n",
      "\n",
      "        ax[n].tick_params(axis='y', labelsize=9)\n",
      "        ax[n].tick_params(axis='x', labelsize=9)\n",
      "\n",
      "        ax[n].grid()\n",
      "    ax[2].legend(loc = 'upper center', fontsize=5, bbox_to_anchor=(0.45, -0.15), ncol=3,scatterpoints =1, numpoints = 1, labelspacing = .02)\n",
      "    ax[1].set_xticklabels([''],visible = False)\n",
      "    #ax[2].xaxis.labelpad = 10\n",
      "    lcr[1].set_params(nbins=6)   \n",
      "    lcr[2].set_params(nbins=8) \n",
      "    ax[1].set_ylim(bottom = Ylimits_Top[0], top= Ylimits_Top[1])\n",
      "\n",
      "    if Save == True:\n",
      "        #loc = os.getcwd()\n",
      "        #os.chdir(loc+os.sep+'Plots')\n",
      "        loc = '/Users/miguel_daal/Documents/Projects/Python_Res_Fit/KAM'\n",
      "        os.chdir('/Users/miguel_daal/Documents/Projects/Python_Res_Fit/KAM/Plots/')\n",
      "        fig.savefig(Title.replace('\\n','_').replace(' ','_')+'_'+date.today().strftime(\"%Y%m%d\"),dpi=300, transparency  = True,bbox_inches='tight')\n",
      "        os.chdir(loc)\n",
      "\n",
      "    plt.show() "
     ],
     "language": "python",
     "metadata": {},
     "outputs": [],
     "prompt_number": 11
    },
    {
     "cell_type": "code",
     "collapsed": false,
     "input": [
      "Save = True\n",
      "Xlabel = 'Probe Power [dBm]'\n",
      "Ylabel = r'Fractional Resonant Frequency Shift, $\\delta f_r/f_r$'\n",
      "Title = 'Fractional Frequency Shift versus\\nProbe Power (zoom in)'\n",
      "Xlimits = [-110,-40]\n",
      "Ylimits_Top = [-0.000001,0.0000015]\n",
      "Replot_Zoomed_In(h1, Title = Title, Xlabel = Xlabel, Ylabel = Ylabel,Save = Save,Xlimits = Xlimits,Ylimits_Top = Ylimits_Top) \n",
      "\n",
      "\n",
      "Save = True\n",
      "Xlabel = r'Resonator Max Current, $I_{max}$ [Amps]'\n",
      "Ylabel = r'Fractional Resonant Frequency Shift, $\\delta f_r/f_r$'\n",
      "Title = 'Fractional Frequency Shift versus\\nMax Current (zoom in)'\n",
      "Xlimits = [None,None]\n",
      "Ylimits_Top = [-0.000001,0.0000015]\n",
      "Replot_Zoomed_In(h2, Title = Title, Xlabel = Xlabel, Ylabel = Ylabel,Save = Save,Xlimits = Xlimits,Ylimits_Top = Ylimits_Top) "
     ],
     "language": "python",
     "metadata": {},
     "outputs": [],
     "prompt_number": 12
    },
    {
     "cell_type": "markdown",
     "metadata": {},
     "source": [
      "## Temperature Power Sweep Data"
     ]
    },
    {
     "cell_type": "code",
     "collapsed": false,
     "input": [
      "\n",
      "#TP_Sweeps =    [Run51aTP,Run51bTP,Run48bTP,Run49aTP           ,Run48aTP,Run46aTP,Run45aTP,Run44bTP,Run44aTP,Run52bTP2ndh,Run52bTP2ndl,Run52bTP1st]\n",
      "condition =     ['Temp>0','Temp>0','Temp>0','(Temp>0)&(Qi<8e5)','Temp>0','Temp>0','Temp>0','Temp>0','Temp>0','Temp>0'    ,'Temp>0'   ,'Temp>0']\n",
      "for sweep in xrange(len(TP_Sweeps)):\n",
      "    TP_Sweeps[sweep].metadata.condition = condition[sweep]"
     ],
     "language": "python",
     "metadata": {},
     "outputs": [],
     "prompt_number": 13
    },
    {
     "cell_type": "code",
     "collapsed": false,
     "input": [
      "#ploting Temp Power Sweep data\n",
      "\n",
      "\n",
      "\n",
      "def Plot_TP_Data_Sets(X_expression, Y_expression, TP_Swp, Xlabel = None, Ylabel = None, Title = None, Show_Title = True, Save = False,Marker_Map = True,Yscale = 'linear', Xscale = 'linear', Xlimits= [None,None] ):\n",
      "\n",
      "\n",
      "    P_sets = []\n",
      "    for swp in TP_Swp:\n",
      "        P_sets.append(set(swp.Sweep_Array['Pinput_dB']))\n",
      "    \n",
      "    if len(TP_Swp) ==1:\n",
      "        common_powers = P_sets[0]\n",
      "    else:\n",
      "        common_powers = reduce(lambda s,t:s.intersection(t), P_sets)    \n",
      "                    \n",
      "    if common_powers == set({}):\n",
      "        P_len = []\n",
      "        for P_set in P_sets:\n",
      "            P_len.append(len(P_set))\n",
      "        m = min(P_len)\n",
      "        m_close_to = [set({})  for i in xrange(m)]\n",
      "        m_ind = P_len.index(m)\n",
      "        first = True\n",
      "        m_values = list(P_sets[m_ind])\n",
      "        m_values.sort()\n",
      "        \n",
      "        for P_set_idx in xrange(len(P_sets)):\n",
      "            if P_set_idx == m_ind:\n",
      "                continue\n",
      "            arr = np.array(list(P_sets[P_set_idx]))\n",
      "            \n",
      "            for m_idx in xrange(m):\n",
      "                if (m_close_to[m_idx] == set({})) & (first == False):\n",
      "                    \n",
      "                    continue\n",
      "                else:\n",
      "                    cond = (m_values[m_idx]+1.1 > arr) & (m_values[m_idx]-1.1 < arr)\n",
      "                    m_close_to[m_idx] = m_close_to[m_idx].union(set(np.extract(cond, arr)))\n",
      "                    \n",
      "            first = False\n",
      "        close_powers = reduce(lambda s,t:s.union(t), m_close_to)    \n",
      "     \n",
      "    if common_powers == set({}):\n",
      "        powers = list(close_powers)\n",
      "        print('there are no common powers. switching to close powers...')\n",
      "    else:\n",
      "        powers = list(common_powers)\n",
      "    powers.sort()\n",
      "            \n",
      "                        \n",
      "        \n",
      "    fig = plt.figure( figsize=(6.5,7), dpi=150)\n",
      "    ax = fig.add_subplot(111)\n",
      "    norm = mpl.colors.Normalize(vmin=min(powers), vmax=max(powers))\n",
      "    scalarMap = cm.ScalarMappable(norm=norm, cmap='jet')\n",
      "    count = collections.Counter()\n",
      "    markers = {1:'1', 2:'2', 3:'3', 4:'4', 5:(2, 0, 0),6:(2, 0, 45),7:(2, 0, 90),8:(2, 0, 135),9:'^',10:'>',11:'v',12:'<'}\n",
      "\n",
      "    lines = {}\n",
      "    linecount = 0\n",
      "    for index in xrange(len(TP_Swp)): \n",
      "        Preadout_dB = TP_Swp[index].Sweep_Array['Preadout_dB']\n",
      "        Pinput_dB = TP_Swp[index].Sweep_Array['Pinput_dB']\n",
      "        Fr = TP_Swp[index].Sweep_Array['Fr']\n",
      "        Q = TP_Swp[index].Sweep_Array['Q']\n",
      "        Qc = TP_Swp[index].Sweep_Array['Qc']\n",
      "        Qi = 1.0/((1.0/Q)-(1.0/Qc))\n",
      "        Temp  = TP_Swp[index].Sweep_Array['Temperature']\n",
      "        width = TP_Swp[index].metadata.Resonator_Width\n",
      "        run = TP_Swp[index].metadata.Run      \n",
      "        if Marker_Map == True:\n",
      "            #count[run] +=1\n",
      "            #mark = markers[count[run]]\n",
      "            mark = markers[index+1]\n",
      "        else:\n",
      "            mark ='.'\n",
      "        for power in powers:   \n",
      "            if power not in set(Pinput_dB):\n",
      "                continue\n",
      "                \n",
      "            cond = eval(TP_Swp[index].metadata.condition);\n",
      "            cond = (TP_Swp[index].Sweep_Array['Pinput_dB'] == power) & (cond) #& (TP_Swp[index].Sweep_Array['Is_Valid'] == True) \n",
      "            Fr_power = np.extract(cond,Fr)\n",
      "            Qi_power = np.extract(cond,Qi)\n",
      "            X_array = eval(X_expression)\n",
      "            Y_array = eval(Y_expression)\n",
      "            #xdict = dict(zip(X_array,arange(X_array.size)))\n",
      "            x = np.extract(cond,X_array)\n",
      "            y = np.extract(cond,Y_array)\n",
      "            Pr = TP_Swp[index].Sweep_Array['Preadout_dB'][np.where(cond)].mean().round()\n",
      "            label_txt = str(int(width*1e6))+ '$\\mu m$; Run '+ run + '; $P_{probe}$ ='+ str(int(Pr)) +' dBm' + TP_Swp[index].metadata.custom[1]\n",
      "            lines[linecount], = ax.plot(x , y, color = scalarMap.to_rgba(power), label = label_txt, linewidth=3,linestyle= TP_Swp[index].metadata.custom[2], marker = mark,markeredgecolor ='k',  markerfacecolor = 'k',markersize = 3 )\n",
      "            linecount = linecount + 1\n",
      "            \n",
      "            #Now plot all invalid points (if any)...\n",
      "            cond = eval(TP_Swp[index].metadata.condition);\n",
      "            cond = (TP_Swp[index].Sweep_Array['Pinput_dB'] == power) & (cond) & (TP_Swp[index].Sweep_Array['Is_Valid'] == False) \n",
      "            if np.any(cond):\n",
      "                X_array = eval(X_expression)\n",
      "                Y_array = eval(Y_expression)\n",
      "                #xdict = dict(zip(X_array,arange(X_array.size)))\n",
      "                x = np.extract(cond,X_array)\n",
      "                y = np.extract(cond,Y_array)\n",
      "                Pr = TP_Swp[index].Sweep_Array['Preadout_dB'][np.where(cond)].mean().round()\n",
      "                label_txt = '_' + str(int(width*1e6))+ '$\\mu m$; Run '+ run + '; $P_{probe}$ ='+ str(int(Pr)) +' dBm' + TP_Swp[index].metadata.custom[1]\n",
      "                #lines, = ax.plot(x , y, color = scalarMap.to_rgba(power), label = label_txt, linewidth=3,linestyle= 'o', marker = mark,markeredgecolor =  scalarMap.to_rgba(power),  markerfacecolor =  scalarMap.to_rgba(power),markersize = 6 )\n",
      "                ax.scatter(x , y, c = scalarMap.to_rgba(power), label = label_txt,linewidths= .5, marker ='o', s = 30 )\n",
      "                \n",
      "            \n",
      "\n",
      "    ax.legend(loc = 'upper center', fontsize=5, bbox_to_anchor=(0.5, -0.1), ncol=3,scatterpoints =1, numpoints = 1, labelspacing = .02)\n",
      "\n",
      "\n",
      "    #ax.ticklabel_format(axis='y', style='sci',useOffset=False)\n",
      "    ax.set_ylabel(Ylabel, color='k')\n",
      "    ax.set_xlabel(Xlabel, color='k')\n",
      "    ax.xaxis.labelpad = 10 #move the xlabel down a bit, also possible with ax.xaxis.set_label_coords(0.5, -0.1)\n",
      "    ax.set_xscale(Xscale)\n",
      "    ax.set_yscale(Yscale)\n",
      "    if Show_Title == False:\n",
      "        plt.subplots_adjust(left=.2, bottom=0.3, right=None, top=.95)\n",
      "    else:\n",
      "        ax.set_title(Title)\n",
      "        plt.subplots_adjust(left=.2, bottom=0.3, right=None, top=None)\n",
      "    ax.tick_params(axis='y', labelsize=9)\n",
      "    ax.tick_params(axis='x', labelsize=9)\n",
      "    \n",
      "    frm = mpl.ticker.ScalarFormatter(useOffset=False, useMathText=None, useLocale=None)\n",
      "    frm.set_powerlimits((2,7))\n",
      "    frm.set_scientific(True)\n",
      "    ax.yaxis.set_major_formatter(frm)\n",
      "    ax.set_xlim( left = Xlimits[0], right = Xlimits[1])\n",
      "    #ax.set_xlim([0.1,0.3])\n",
      "    #ax.set_ylim([-0.001,0.0])\n",
      "   \n",
      "    ax.grid()\n",
      "    plt.show()\n",
      "    if Save == True:\n",
      "        #loc = os.getcwd()\n",
      "        #os.chdir(loc+os.sep+'Plots')\n",
      "        loc = '/Users/miguel_daal/Documents/Projects/Python_Res_Fit/KAM'\n",
      "        os.chdir('/Users/miguel_daal/Documents/Projects/Python_Res_Fit/KAM/Plots/')\n",
      "        fig.savefig(Title.replace('\\n','_').replace(' ','_')+'_'+date.today().strftime(\"%Y%m%d\"),dpi=300, transparency  = True,bbox_inches='tight')\n",
      "        os.chdir(loc)\n",
      "        \n",
      "    return (fig,ax,lines)"
     ],
     "language": "python",
     "metadata": {},
     "outputs": [],
     "prompt_number": 14
    },
    {
     "cell_type": "markdown",
     "metadata": {},
     "source": [
      "### Fractional Freq Shift"
     ]
    },
    {
     "cell_type": "code",
     "collapsed": false,
     "input": [
      "data = [Run51bTP]\n",
      "\n",
      "#data =[16um    ,4um     ,32um    ,8um     , 256um  , 256um      ]\n",
      "data = [Run51bTP,Run49aTP,Run51aTP,Run45aTP,Run46aTP, Run52bTP1st]\n",
      "\n",
      "Save = True\n",
      "Xlabel = r'Temperature [K]'\n",
      "Ylabel = r'Fractional Resonant Frequency Shift, $\\delta f_r/f_r$'\n",
      "Title = 'Fractional Frequency Shift versus\\nTemperature'\n",
      "Show_Title = False\n",
      "Xlimits = [None,None]\n",
      "h1 = Plot_TP_Data_Sets(\"Temp\",\"(Fr-max(Fr))/max(Fr)\",data, Xlabel = Xlabel, Ylabel = Ylabel, Title = Title, Show_Title = Show_Title, Save = Save,Marker_Map = True,Yscale = 'linear', Xscale = 'linear',Xlimits = Xlimits)\n",
      "\n",
      "\n",
      "\n",
      "Save = True\n",
      "Xlabel = r'Temperature [K]'\n",
      "Ylabel = r'Internal Quality Factor, $Q_i$'\n",
      "Title = 'Internal Quality Factor versus\\nTemperature'\n",
      "Show_Title = False\n",
      "Xlimits = [None,0.4]\n",
      "h2 = Plot_TP_Data_Sets(\"Temp\",\"Qi\",data, Xlabel = Xlabel, Ylabel = Ylabel, Title = Title, Show_Title = Show_Title, Save = Save,Marker_Map = True,Yscale = 'linear', Xscale = 'linear', Xlimits = Xlimits)\n",
      "\n",
      "data = [Run51bTP,Run51aTP,Run45aTP,Run46aTP, Run52bTP1st]\n",
      "Save = True\n",
      "Xlabel = r'Temperature [K]'\n",
      "Ylabel = r'Fractional Quality Factor Shift, $\\delta \\frac{1}{Q_i}$'\n",
      "Title = 'Fractional Quality Factor versus\\nTemperature'\n",
      "Show_Title = False\n",
      "Xlimits = [None,None]\n",
      "h3 = Plot_TP_Data_Sets(\"Temp\",\"((1/Qi)-(1/max(Qi)))/(1/max(Qi))\",data, Xlabel = Xlabel, Ylabel = Ylabel, Title = Title, Show_Title = Show_Title, Save = Save,Marker_Map = True,Yscale = 'linear', Xscale = 'linear',Xlimits = Xlimits)\n",
      "\n",
      "data = [Run49aTP]\n",
      "Save = True\n",
      "Xlabel = r'Temperature [K]'\n",
      "Ylabel = r'Fractional Quality Factor Shift, $\\delta \\frac{1}{Q_i}$'\n",
      "Title = 'Fractional Quality Factor versus\\nTemperature (4um only)'\n",
      "Show_Title = False\n",
      "Xlimits = [None,None]\n",
      "h4 = Plot_TP_Data_Sets(\"Temp\",\"((1/Qi)-(1/max(Qi)))/(1/max(Qi))\",data, Xlabel = Xlabel, Ylabel = Ylabel, Title = Title, Show_Title = Show_Title, Save = Save,Marker_Map = True,Yscale = 'linear', Xscale = 'linear',Xlimits = Xlimits)\n",
      "\n",
      "\n"
     ],
     "language": "python",
     "metadata": {},
     "outputs": [
      {
       "output_type": "stream",
       "stream": "stdout",
       "text": [
        "there are no common powers. switching to close powers...\n",
        "there are no common powers. switching to close powers..."
       ]
      },
      {
       "output_type": "stream",
       "stream": "stdout",
       "text": [
        "\n",
        "there are no common powers. switching to close powers..."
       ]
      },
      {
       "output_type": "stream",
       "stream": "stdout",
       "text": [
        "\n"
       ]
      },
      {
       "output_type": "stream",
       "stream": "stderr",
       "text": [
        "/Users/miguel_daal/anaconda/lib/python2.7/site-packages/matplotlib/pyplot.py:423: RuntimeWarning: More than 20 figures have been opened. Figures created through the pyplot interface (`matplotlib.pyplot.figure`) are retained until explicitly closed and may consume too much memory. (To control this warning, see the rcParam `figure.max_num_figures`).\n",
        "  max_open_warning, RuntimeWarning)\n"
       ]
      }
     ],
     "prompt_number": 15
    },
    {
     "cell_type": "markdown",
     "metadata": {},
     "source": [
      "### Freq Shift"
     ]
    },
    {
     "cell_type": "code",
     "collapsed": false,
     "input": [
      "data = [Run52bTP1st]\n",
      "\n",
      "Save = True\n",
      "Xlabel = r'Temperature [K]'\n",
      "Ylabel = r'Resonant Frequency Shift, $f_r$'\n",
      "Title = 'Resonant Frequency versus\\n Temperature (52b only)'\n",
      "Show_Title = False\n",
      "Plot_TP_Data_Sets(\"Temp\",\"Fr\",data, Xlabel = Xlabel, Ylabel = Ylabel, Title = Title, Show_Title = Show_Title, Save = Save,Marker_Map = True,Yscale = 'linear', Xscale = 'linear')\n",
      "\n",
      "\n",
      "Save = True\n",
      "Xlabel = r'Temperature [K]'\n",
      "Ylabel = r'Relative Resonant Frequency Shift, $f_r- max(f_r)$'\n",
      "Title = 'Relative Frequency Shift versus\\n Temperature (52b only)'\n",
      "Show_Title = False\n",
      "#Plot_TP_Data_Sets(\"Temp\",\"Fr/max(Fr)\",data, Xlabel = Xlabel, Ylabel = Ylabel, Title = Title, Show_Title = Show_Title, Save = Save,Marker_Map = True,Yscale = 'log', Xscale = 'linear')"
     ],
     "language": "python",
     "metadata": {},
     "outputs": [
      {
       "output_type": "stream",
       "stream": "stderr",
       "text": [
        "/Users/miguel_daal/anaconda/lib/python2.7/site-packages/matplotlib/pyplot.py:423: RuntimeWarning: More than 20 figures have been opened. Figures created through the pyplot interface (`matplotlib.pyplot.figure`) are retained until explicitly closed and may consume too much memory. (To control this warning, see the rcParam `figure.max_num_figures`).\n",
        "  max_open_warning, RuntimeWarning)\n"
       ]
      }
     ],
     "prompt_number": 16
    },
    {
     "cell_type": "code",
     "collapsed": false,
     "input": [
      "#plt.close(h2[0])\n",
      "#h2[0].show()\n"
     ],
     "language": "python",
     "metadata": {},
     "outputs": [],
     "prompt_number": 17
    },
    {
     "cell_type": "code",
     "collapsed": false,
     "input": [],
     "language": "python",
     "metadata": {},
     "outputs": [],
     "prompt_number": 17
    },
    {
     "cell_type": "code",
     "collapsed": false,
     "input": [],
     "language": "python",
     "metadata": {},
     "outputs": [],
     "prompt_number": 17
    }
   ],
   "metadata": {}
  }
 ]
}