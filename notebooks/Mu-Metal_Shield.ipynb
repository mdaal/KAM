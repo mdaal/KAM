{
 "metadata": {
  "name": "",
  "signature": "sha256:8d8b3325e71d88be0cbd1b5ef39d3c8f7c4195476f445c104433ec1313433592"
 },
 "nbformat": 3,
 "nbformat_minor": 0,
 "worksheets": [
  {
   "cells": [
    {
     "cell_type": "code",
     "collapsed": false,
     "input": [
      "%pylab"
     ],
     "language": "python",
     "metadata": {},
     "outputs": [
      {
       "output_type": "stream",
       "stream": "stdout",
       "text": [
        "Using matplotlib backend: MacOSX\n",
        "Populating the interactive namespace from numpy and matplotlib\n"
       ]
      }
     ],
     "prompt_number": 1
    },
    {
     "cell_type": "code",
     "collapsed": false,
     "input": [
      "def S(mu, Di, Do):\n",
      "    return (mu/4.0)*(1-np.square(Di*1.0/Do))+1"
     ],
     "language": "python",
     "metadata": {},
     "outputs": [],
     "prompt_number": 16
    },
    {
     "cell_type": "code",
     "collapsed": false,
     "input": [
      "S(20000,67,70)\n",
      "S(20000,49,52)"
     ],
     "language": "python",
     "metadata": {},
     "outputs": [
      {
       "metadata": {},
       "output_type": "pyout",
       "prompt_number": 29,
       "text": [
        "561.28106508875737"
       ]
      }
     ],
     "prompt_number": 29
    },
    {
     "cell_type": "code",
     "collapsed": false,
     "input": [
      "def B_Attenuation(mu, Di, Do):\n",
      "    return 4.0*np.square(Do)*mu/(np.square(Do*(1+mu))-np.square(Di*(mu-1)))"
     ],
     "language": "python",
     "metadata": {},
     "outputs": [],
     "prompt_number": 12
    },
    {
     "cell_type": "code",
     "collapsed": false,
     "input": [
      "B_Attenuation(20000,70,73)\n",
      "B_Attenuation(20000,52,55)"
     ],
     "language": "python",
     "metadata": {},
     "outputs": [
      {
       "metadata": {},
       "output_type": "pyout",
       "prompt_number": 27,
       "text": [
        "0.0018813774372473384"
       ]
      }
     ],
     "prompt_number": 27
    },
    {
     "cell_type": "code",
     "collapsed": false,
     "input": [
      "1/0.0024784726519025803"
     ],
     "language": "python",
     "metadata": {},
     "outputs": [
      {
       "metadata": {},
       "output_type": "pyout",
       "prompt_number": 14,
       "text": [
        "403.47429261822106"
       ]
      }
     ],
     "prompt_number": 14
    },
    {
     "cell_type": "code",
     "collapsed": false,
     "input": [
      "def S2(mu, D1i, D1o, D2i, D2o): #D1 is inner can\n",
      "    S_1 = (mu/4.0)*(1-np.square(D1i*1.0/D1o))\n",
      "    S_2 = (mu/4.0)*(1-np.square(D2i*1.0/D2o))\n",
      "    S12 = (1-np.square(D1o*1.0/D2i))\n",
      "    Stotal = 1.0+S_1+S_2+S_1*S_2*S12\n",
      "    print('Stotal is {0}, S_1 is {1}, S_2 is {2}, S12 is {3}'.format(Stotal, S_1,S_2,S12))\n",
      "    \n",
      "    return Stotal"
     ],
     "language": "python",
     "metadata": {},
     "outputs": [],
     "prompt_number": 35
    },
    {
     "cell_type": "code",
     "collapsed": false,
     "input": [
      "S2(20000, 49, 52, 67,70)"
     ],
     "language": "python",
     "metadata": {},
     "outputs": [
      {
       "output_type": "stream",
       "stream": "stdout",
       "text": [
        "S_1 is 560.281065089, S_2 is 419.387755102, S12 is 0.448163265306\n"
       ]
      },
      {
       "metadata": {},
       "output_type": "pyout",
       "prompt_number": 33,
       "text": [
        "106287.84020341607"
       ]
      }
     ],
     "prompt_number": 33
    },
    {
     "cell_type": "code",
     "collapsed": false,
     "input": [
      "#for my can, I used thickness is 1mm. Use inscribed hex circle diameter\n",
      "S2(60000,2.796-2*0.039 , 2.796, 3.2747- 2*0.039,3.2747)"
     ],
     "language": "python",
     "metadata": {},
     "outputs": [
      {
       "output_type": "stream",
       "stream": "stdout",
       "text": [
        "Stotal is 138449.326498, S_1 is 825.236235702, S_2 is 706.05911941, S12 is 0.234983905382\n"
       ]
      },
      {
       "metadata": {},
       "output_type": "pyout",
       "prompt_number": 36,
       "text": [
        "138449.3264980063"
       ]
      }
     ],
     "prompt_number": 36
    },
    {
     "cell_type": "code",
     "collapsed": false,
     "input": [
      "%matplotlib?"
     ],
     "language": "python",
     "metadata": {},
     "outputs": [],
     "prompt_number": 38
    },
    {
     "cell_type": "code",
     "collapsed": false,
     "input": [],
     "language": "python",
     "metadata": {},
     "outputs": []
    }
   ],
   "metadata": {}
  }
 ]
}