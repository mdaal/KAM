{
 "metadata": {
  "name": "",
  "signature": "sha256:6e0ac86e4442ff397e15cdb97e994a902665624b79a9994627902080dacf3b7b"
 },
 "nbformat": 3,
 "nbformat_minor": 0,
 "worksheets": [
  {
   "cells": [
    {
     "cell_type": "code",
     "collapsed": false,
     "input": [
      "%pylab\n",
      "from scipy import constants\n",
      "k = constants.value('Boltzmann constant')\n",
      "R = 50"
     ],
     "language": "python",
     "metadata": {},
     "outputs": [
      {
       "output_type": "stream",
       "stream": "stdout",
       "text": [
        "Using matplotlib backend: MacOSX\n",
        "Populating the interactive namespace from numpy and matplotlib\n"
       ]
      }
     ],
     "prompt_number": 1
    },
    {
     "cell_type": "code",
     "collapsed": false,
     "input": [
      "g = lambda dB: np.power(10.,dB/10.) "
     ],
     "language": "python",
     "metadata": {},
     "outputs": [],
     "prompt_number": 2
    },
    {
     "cell_type": "code",
     "collapsed": false,
     "input": [
      "T_A1 = 6.3; #SiGe1\n",
      "G_A1 = g(47.6); #SiGe1\n",
      "T_A2 = 424.; #AML016P3411\n",
      "G_A2 =  g(38.7)\n",
      "G_P7P8 = g(-2.50)\n",
      "T_P7P8 = ((1.0/G_P7P8) - 1)*(290+4)/2 \n",
      "G_P9P10 = g(-1.35)\n",
      "T_P9P10 = ((1.0/G_P9P10) - 1)*290\n",
      "G_M1 = g(-10.)\n",
      "T_M1 =  ((1.0/G_M1) - 1)*290\n",
      "print('T_P7P8 = {0}, T_P9P10 = {1}, T_M1 = {2}'.format(T_P7P8,T_P9P10,T_M1 ))"
     ],
     "language": "python",
     "metadata": {},
     "outputs": [
      {
       "output_type": "stream",
       "stream": "stdout",
       "text": [
        "T_P7P8 = 114.407073276, T_P9P10 = 105.729109611, T_M1 = 2610.0\n"
       ]
      }
     ],
     "prompt_number": 18
    },
    {
     "cell_type": "code",
     "collapsed": false,
     "input": [
      "T_sys =  T_A1 + (T_P7P8/( G_A1 ) ) + (T_A2/( G_A1 *G_P7P8 ) ) + (T_P9P10/( G_A1 *G_P7P8* G_A2) ) + (T_M1/( G_A1 *G_P7P8* G_A2 * G_P9P10) )\n",
      "print('T_sys = {0}'.format(T_sys))"
     ],
     "language": "python",
     "metadata": {},
     "outputs": [
      {
       "output_type": "stream",
       "stream": "stdout",
       "text": [
        "T_sys = 6.31510630752\n"
       ]
      }
     ],
     "prompt_number": 19
    },
    {
     "cell_type": "code",
     "collapsed": false,
     "input": [
      "print('system noise should be {0} V^2/Hz'.format(4*k*T_sys*R* (G_A1 *G_P7P8* G_A2 * G_P9P10*G_M1)))\n"
     ],
     "language": "python",
     "metadata": {},
     "outputs": [
      {
       "output_type": "stream",
       "stream": "stdout",
       "text": [
        "system noise should be 3.06544749006e-13 V^2/Hz\n"
       ]
      }
     ],
     "prompt_number": 20
    },
    {
     "cell_type": "code",
     "collapsed": false,
     "input": [
      "10*np.log10(G_A1 *G_P7P8* G_A2 * G_P9P10*G_M1)"
     ],
     "language": "python",
     "metadata": {},
     "outputs": [
      {
       "metadata": {},
       "output_type": "pyout",
       "prompt_number": 6,
       "text": [
        "72.450000000000003"
       ]
      }
     ],
     "prompt_number": 6
    },
    {
     "cell_type": "code",
     "collapsed": false,
     "input": [
      " ((1.0/g(-40)) - 1)*4*g(-40)\n"
     ],
     "language": "python",
     "metadata": {},
     "outputs": [
      {
       "metadata": {},
       "output_type": "pyout",
       "prompt_number": 22,
       "text": [
        "3.9996"
       ]
      }
     ],
     "prompt_number": 22
    },
    {
     "cell_type": "code",
     "collapsed": false,
     "input": [
      "k"
     ],
     "language": "python",
     "metadata": {},
     "outputs": [
      {
       "metadata": {},
       "output_type": "pyout",
       "prompt_number": 7,
       "text": [
        "1.3806488e-23"
       ]
      }
     ],
     "prompt_number": 7
    },
    {
     "cell_type": "code",
     "collapsed": false,
     "input": [],
     "language": "python",
     "metadata": {},
     "outputs": [],
     "prompt_number": 7
    }
   ],
   "metadata": {}
  }
 ]
}